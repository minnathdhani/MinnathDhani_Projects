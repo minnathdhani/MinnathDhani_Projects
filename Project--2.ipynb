{
 "cells": [
  {
   "cell_type": "code",
   "execution_count": 1,
   "id": "4f1136e8",
   "metadata": {},
   "outputs": [],
   "source": [
    "import pandas as pd\n",
    "import numpy as np\n",
    "import matplotlib.pyplot as plt\n",
    "import seaborn as sns\n",
    "\n",
    "from sklearn.model_selection import train_test_split, cross_val_predict\n",
    "from sklearn.model_selection import train_test_split\n",
    "from sklearn.linear_model import LogisticRegression\n",
    "\n",
    "from sklearn.metrics import recall_score\n",
    "from sklearn.metrics import f1_score\n",
    "from sklearn.metrics import accuracy_score\n",
    "from sklearn.metrics import precision_score\n",
    "\n",
    "from sklearn.neighbors import KNeighborsClassifier\n",
    "from sklearn.ensemble import RandomForestClassifier\n",
    "from sklearn.ensemble import  AdaBoostClassifier\n",
    "from sklearn.svm import SVC\n",
    "import sklearn.naive_bayes as nb\n",
    "from sklearn.naive_bayes import GaussianNB\n",
    "from sklearn.ensemble import StackingClassifier\n",
    "from sklearn.metrics import roc_curve, auc\n",
    "from sklearn.model_selection import KFold,StratifiedKFold\n",
    "from sklearn.metrics import accuracy_score, classification_report\n",
    "\n",
    "from sklearn import metrics\n",
    "\n",
    "\n",
    "import warnings\n",
    "warnings.simplefilter('ignore')"
   ]
  },
  {
   "cell_type": "code",
   "execution_count": 2,
   "id": "5a48a85b",
   "metadata": {
    "scrolled": true
   },
   "outputs": [
    {
     "data": {
      "text/html": [
       "<div>\n",
       "<style scoped>\n",
       "    .dataframe tbody tr th:only-of-type {\n",
       "        vertical-align: middle;\n",
       "    }\n",
       "\n",
       "    .dataframe tbody tr th {\n",
       "        vertical-align: top;\n",
       "    }\n",
       "\n",
       "    .dataframe thead th {\n",
       "        text-align: right;\n",
       "    }\n",
       "</style>\n",
       "<table border=\"1\" class=\"dataframe\">\n",
       "  <thead>\n",
       "    <tr style=\"text-align: right;\">\n",
       "      <th></th>\n",
       "      <th>CustomerId</th>\n",
       "      <th>Surname</th>\n",
       "      <th>CreditScore</th>\n",
       "      <th>Geography</th>\n",
       "      <th>Gender</th>\n",
       "      <th>Age</th>\n",
       "      <th>Tenure</th>\n",
       "      <th>Balance</th>\n",
       "      <th>NumOfProducts</th>\n",
       "      <th>HasCrCard</th>\n",
       "      <th>IsActiveMember</th>\n",
       "      <th>EstimatedSalary</th>\n",
       "      <th>Exited</th>\n",
       "    </tr>\n",
       "  </thead>\n",
       "  <tbody>\n",
       "    <tr>\n",
       "      <th>0</th>\n",
       "      <td>15634602</td>\n",
       "      <td>Hargrave</td>\n",
       "      <td>619</td>\n",
       "      <td>France</td>\n",
       "      <td>Female</td>\n",
       "      <td>42</td>\n",
       "      <td>2</td>\n",
       "      <td>0.00</td>\n",
       "      <td>1</td>\n",
       "      <td>1</td>\n",
       "      <td>1</td>\n",
       "      <td>101348.88</td>\n",
       "      <td>1</td>\n",
       "    </tr>\n",
       "    <tr>\n",
       "      <th>1</th>\n",
       "      <td>15647311</td>\n",
       "      <td>Hill</td>\n",
       "      <td>608</td>\n",
       "      <td>Spain</td>\n",
       "      <td>Female</td>\n",
       "      <td>41</td>\n",
       "      <td>1</td>\n",
       "      <td>83807.86</td>\n",
       "      <td>1</td>\n",
       "      <td>0</td>\n",
       "      <td>1</td>\n",
       "      <td>112542.58</td>\n",
       "      <td>0</td>\n",
       "    </tr>\n",
       "    <tr>\n",
       "      <th>2</th>\n",
       "      <td>15619304</td>\n",
       "      <td>Onio</td>\n",
       "      <td>502</td>\n",
       "      <td>France</td>\n",
       "      <td>Female</td>\n",
       "      <td>42</td>\n",
       "      <td>8</td>\n",
       "      <td>159660.80</td>\n",
       "      <td>3</td>\n",
       "      <td>1</td>\n",
       "      <td>0</td>\n",
       "      <td>113931.57</td>\n",
       "      <td>1</td>\n",
       "    </tr>\n",
       "    <tr>\n",
       "      <th>3</th>\n",
       "      <td>15701354</td>\n",
       "      <td>Boni</td>\n",
       "      <td>699</td>\n",
       "      <td>France</td>\n",
       "      <td>Female</td>\n",
       "      <td>39</td>\n",
       "      <td>1</td>\n",
       "      <td>0.00</td>\n",
       "      <td>2</td>\n",
       "      <td>0</td>\n",
       "      <td>0</td>\n",
       "      <td>93826.63</td>\n",
       "      <td>0</td>\n",
       "    </tr>\n",
       "    <tr>\n",
       "      <th>4</th>\n",
       "      <td>15737888</td>\n",
       "      <td>Mitchell</td>\n",
       "      <td>850</td>\n",
       "      <td>Spain</td>\n",
       "      <td>Female</td>\n",
       "      <td>43</td>\n",
       "      <td>2</td>\n",
       "      <td>125510.82</td>\n",
       "      <td>1</td>\n",
       "      <td>1</td>\n",
       "      <td>1</td>\n",
       "      <td>79084.10</td>\n",
       "      <td>0</td>\n",
       "    </tr>\n",
       "    <tr>\n",
       "      <th>...</th>\n",
       "      <td>...</td>\n",
       "      <td>...</td>\n",
       "      <td>...</td>\n",
       "      <td>...</td>\n",
       "      <td>...</td>\n",
       "      <td>...</td>\n",
       "      <td>...</td>\n",
       "      <td>...</td>\n",
       "      <td>...</td>\n",
       "      <td>...</td>\n",
       "      <td>...</td>\n",
       "      <td>...</td>\n",
       "      <td>...</td>\n",
       "    </tr>\n",
       "    <tr>\n",
       "      <th>9995</th>\n",
       "      <td>15606229</td>\n",
       "      <td>Obijiaku</td>\n",
       "      <td>771</td>\n",
       "      <td>France</td>\n",
       "      <td>Male</td>\n",
       "      <td>39</td>\n",
       "      <td>5</td>\n",
       "      <td>0.00</td>\n",
       "      <td>2</td>\n",
       "      <td>1</td>\n",
       "      <td>0</td>\n",
       "      <td>96270.64</td>\n",
       "      <td>0</td>\n",
       "    </tr>\n",
       "    <tr>\n",
       "      <th>9996</th>\n",
       "      <td>15569892</td>\n",
       "      <td>Johnstone</td>\n",
       "      <td>516</td>\n",
       "      <td>France</td>\n",
       "      <td>Male</td>\n",
       "      <td>35</td>\n",
       "      <td>10</td>\n",
       "      <td>57369.61</td>\n",
       "      <td>1</td>\n",
       "      <td>1</td>\n",
       "      <td>1</td>\n",
       "      <td>101699.77</td>\n",
       "      <td>0</td>\n",
       "    </tr>\n",
       "    <tr>\n",
       "      <th>9997</th>\n",
       "      <td>15584532</td>\n",
       "      <td>Liu</td>\n",
       "      <td>709</td>\n",
       "      <td>France</td>\n",
       "      <td>Female</td>\n",
       "      <td>36</td>\n",
       "      <td>7</td>\n",
       "      <td>0.00</td>\n",
       "      <td>1</td>\n",
       "      <td>0</td>\n",
       "      <td>1</td>\n",
       "      <td>42085.58</td>\n",
       "      <td>1</td>\n",
       "    </tr>\n",
       "    <tr>\n",
       "      <th>9998</th>\n",
       "      <td>15682355</td>\n",
       "      <td>Sabbatini</td>\n",
       "      <td>772</td>\n",
       "      <td>Germany</td>\n",
       "      <td>Male</td>\n",
       "      <td>42</td>\n",
       "      <td>3</td>\n",
       "      <td>75075.31</td>\n",
       "      <td>2</td>\n",
       "      <td>1</td>\n",
       "      <td>0</td>\n",
       "      <td>92888.52</td>\n",
       "      <td>1</td>\n",
       "    </tr>\n",
       "    <tr>\n",
       "      <th>9999</th>\n",
       "      <td>15628319</td>\n",
       "      <td>Walker</td>\n",
       "      <td>792</td>\n",
       "      <td>France</td>\n",
       "      <td>Female</td>\n",
       "      <td>28</td>\n",
       "      <td>4</td>\n",
       "      <td>130142.79</td>\n",
       "      <td>1</td>\n",
       "      <td>1</td>\n",
       "      <td>0</td>\n",
       "      <td>38190.78</td>\n",
       "      <td>0</td>\n",
       "    </tr>\n",
       "  </tbody>\n",
       "</table>\n",
       "<p>10000 rows × 13 columns</p>\n",
       "</div>"
      ],
      "text/plain": [
       "      CustomerId    Surname  CreditScore Geography  Gender  Age  Tenure  \\\n",
       "0       15634602   Hargrave          619    France  Female   42       2   \n",
       "1       15647311       Hill          608     Spain  Female   41       1   \n",
       "2       15619304       Onio          502    France  Female   42       8   \n",
       "3       15701354       Boni          699    France  Female   39       1   \n",
       "4       15737888   Mitchell          850     Spain  Female   43       2   \n",
       "...          ...        ...          ...       ...     ...  ...     ...   \n",
       "9995    15606229   Obijiaku          771    France    Male   39       5   \n",
       "9996    15569892  Johnstone          516    France    Male   35      10   \n",
       "9997    15584532        Liu          709    France  Female   36       7   \n",
       "9998    15682355  Sabbatini          772   Germany    Male   42       3   \n",
       "9999    15628319     Walker          792    France  Female   28       4   \n",
       "\n",
       "        Balance  NumOfProducts  HasCrCard  IsActiveMember  EstimatedSalary  \\\n",
       "0          0.00              1          1               1        101348.88   \n",
       "1      83807.86              1          0               1        112542.58   \n",
       "2     159660.80              3          1               0        113931.57   \n",
       "3          0.00              2          0               0         93826.63   \n",
       "4     125510.82              1          1               1         79084.10   \n",
       "...         ...            ...        ...             ...              ...   \n",
       "9995       0.00              2          1               0         96270.64   \n",
       "9996   57369.61              1          1               1        101699.77   \n",
       "9997       0.00              1          0               1         42085.58   \n",
       "9998   75075.31              2          1               0         92888.52   \n",
       "9999  130142.79              1          1               0         38190.78   \n",
       "\n",
       "      Exited  \n",
       "0          1  \n",
       "1          0  \n",
       "2          1  \n",
       "3          0  \n",
       "4          0  \n",
       "...      ...  \n",
       "9995       0  \n",
       "9996       0  \n",
       "9997       1  \n",
       "9998       1  \n",
       "9999       0  \n",
       "\n",
       "[10000 rows x 13 columns]"
      ]
     },
     "execution_count": 2,
     "metadata": {},
     "output_type": "execute_result"
    }
   ],
   "source": [
    "data=pd.read_csv(\"bankchurn.csv\")\n",
    "data"
   ]
  },
  {
   "cell_type": "code",
   "execution_count": 3,
   "id": "7cdefd59",
   "metadata": {},
   "outputs": [
    {
     "name": "stdout",
     "output_type": "stream",
     "text": [
      "<class 'pandas.core.frame.DataFrame'>\n",
      "RangeIndex: 10000 entries, 0 to 9999\n",
      "Data columns (total 13 columns):\n",
      " #   Column           Non-Null Count  Dtype  \n",
      "---  ------           --------------  -----  \n",
      " 0   CustomerId       10000 non-null  int64  \n",
      " 1   Surname          10000 non-null  object \n",
      " 2   CreditScore      10000 non-null  int64  \n",
      " 3   Geography        10000 non-null  object \n",
      " 4   Gender           10000 non-null  object \n",
      " 5   Age              10000 non-null  int64  \n",
      " 6   Tenure           10000 non-null  int64  \n",
      " 7   Balance          10000 non-null  float64\n",
      " 8   NumOfProducts    10000 non-null  int64  \n",
      " 9   HasCrCard        10000 non-null  int64  \n",
      " 10  IsActiveMember   10000 non-null  int64  \n",
      " 11  EstimatedSalary  10000 non-null  float64\n",
      " 12  Exited           10000 non-null  int64  \n",
      "dtypes: float64(2), int64(8), object(3)\n",
      "memory usage: 1015.8+ KB\n"
     ]
    }
   ],
   "source": [
    "data.info()"
   ]
  },
  {
   "cell_type": "code",
   "execution_count": 4,
   "id": "ec4db2c6",
   "metadata": {},
   "outputs": [
    {
     "data": {
      "text/plain": [
       "CustomerId         0\n",
       "Surname            0\n",
       "CreditScore        0\n",
       "Geography          0\n",
       "Gender             0\n",
       "Age                0\n",
       "Tenure             0\n",
       "Balance            0\n",
       "NumOfProducts      0\n",
       "HasCrCard          0\n",
       "IsActiveMember     0\n",
       "EstimatedSalary    0\n",
       "Exited             0\n",
       "dtype: int64"
      ]
     },
     "execution_count": 4,
     "metadata": {},
     "output_type": "execute_result"
    }
   ],
   "source": [
    "data.isnull().sum()"
   ]
  },
  {
   "cell_type": "code",
   "execution_count": 5,
   "id": "dabdffba",
   "metadata": {},
   "outputs": [
    {
     "name": "stdout",
     "output_type": "stream",
     "text": [
      "Size of dataframe before drop_duplicates (10000, 13)\n",
      "Size of dataframe after drop_duplicates (10000, 13)\n"
     ]
    }
   ],
   "source": [
    "#deleting duplicates\n",
    "print('Size of dataframe before drop_duplicates', data.shape)\n",
    "\n",
    "data.drop_duplicates(inplace= True)\n",
    "\n",
    "print('Size of dataframe after drop_duplicates', data.shape)"
   ]
  },
  {
   "cell_type": "code",
   "execution_count": 6,
   "id": "becdd6e5",
   "metadata": {},
   "outputs": [
    {
     "name": "stdout",
     "output_type": "stream",
     "text": [
      "categorical     continuous\n",
      "--------------  ---------------\n",
      "Geography       CustomerId\n",
      "Gender          Surname\n",
      "Age             CreditScore\n",
      "Tenure          Balance\n",
      "NumOfProducts   EstimatedSalary\n",
      "HasCrCard\n",
      "IsActiveMember\n",
      "Exited\n"
     ]
    }
   ],
   "source": [
    "#Seprating out the categorical and continuous variables\n",
    "def seperate_data_types(data):\n",
    "    categorical=[]\n",
    "    continuous=[]\n",
    "    for column in data.columns:\n",
    "        if data[column].nunique () < 100:\n",
    "            categorical.append(column)\n",
    "        else:\n",
    "            continuous.append(column)\n",
    "    return categorical, continuous\n",
    "\n",
    "categorical, continuous=seperate_data_types(data)\n",
    "\n",
    "from tabulate import tabulate\n",
    "\n",
    "Lable=[categorical, continuous]\n",
    "\n",
    "print(tabulate({\"Categorical\":categorical,\"continuous\": continuous}, headers = [\"categorical\", \"continuous\"]))"
   ]
  },
  {
   "cell_type": "code",
   "execution_count": 7,
   "id": "85ed4820",
   "metadata": {},
   "outputs": [
    {
     "name": "stdout",
     "output_type": "stream",
     "text": [
      "Requirement already satisfied: tabulate in c:\\users\\admin\\anaconda3\\lib\\site-packages (0.8.9)\n"
     ]
    }
   ],
   "source": [
    "! pip install tabulate"
   ]
  },
  {
   "cell_type": "code",
   "execution_count": 8,
   "id": "be157afc",
   "metadata": {},
   "outputs": [
    {
     "data": {
      "text/html": [
       "<div>\n",
       "<style scoped>\n",
       "    .dataframe tbody tr th:only-of-type {\n",
       "        vertical-align: middle;\n",
       "    }\n",
       "\n",
       "    .dataframe tbody tr th {\n",
       "        vertical-align: top;\n",
       "    }\n",
       "\n",
       "    .dataframe thead th {\n",
       "        text-align: right;\n",
       "    }\n",
       "</style>\n",
       "<table border=\"1\" class=\"dataframe\">\n",
       "  <thead>\n",
       "    <tr style=\"text-align: right;\">\n",
       "      <th></th>\n",
       "      <th>CustomerId</th>\n",
       "      <th>Surname</th>\n",
       "      <th>CreditScore</th>\n",
       "      <th>Geography</th>\n",
       "      <th>Gender</th>\n",
       "      <th>Age</th>\n",
       "      <th>Tenure</th>\n",
       "      <th>Balance</th>\n",
       "      <th>NumOfProducts</th>\n",
       "      <th>HasCrCard</th>\n",
       "      <th>IsActiveMember</th>\n",
       "      <th>EstimatedSalary</th>\n",
       "      <th>Exited</th>\n",
       "    </tr>\n",
       "  </thead>\n",
       "  <tbody>\n",
       "    <tr>\n",
       "      <th>0</th>\n",
       "      <td>15634602</td>\n",
       "      <td>Hargrave</td>\n",
       "      <td>619</td>\n",
       "      <td>France</td>\n",
       "      <td>Female</td>\n",
       "      <td>42</td>\n",
       "      <td>2</td>\n",
       "      <td>0.00</td>\n",
       "      <td>1</td>\n",
       "      <td>1</td>\n",
       "      <td>1</td>\n",
       "      <td>101348.88</td>\n",
       "      <td>1</td>\n",
       "    </tr>\n",
       "    <tr>\n",
       "      <th>1</th>\n",
       "      <td>15647311</td>\n",
       "      <td>Hill</td>\n",
       "      <td>608</td>\n",
       "      <td>Spain</td>\n",
       "      <td>Female</td>\n",
       "      <td>41</td>\n",
       "      <td>1</td>\n",
       "      <td>83807.86</td>\n",
       "      <td>1</td>\n",
       "      <td>0</td>\n",
       "      <td>1</td>\n",
       "      <td>112542.58</td>\n",
       "      <td>0</td>\n",
       "    </tr>\n",
       "    <tr>\n",
       "      <th>2</th>\n",
       "      <td>15619304</td>\n",
       "      <td>Onio</td>\n",
       "      <td>502</td>\n",
       "      <td>France</td>\n",
       "      <td>Female</td>\n",
       "      <td>42</td>\n",
       "      <td>8</td>\n",
       "      <td>159660.80</td>\n",
       "      <td>3</td>\n",
       "      <td>1</td>\n",
       "      <td>0</td>\n",
       "      <td>113931.57</td>\n",
       "      <td>1</td>\n",
       "    </tr>\n",
       "    <tr>\n",
       "      <th>3</th>\n",
       "      <td>15701354</td>\n",
       "      <td>Boni</td>\n",
       "      <td>699</td>\n",
       "      <td>France</td>\n",
       "      <td>Female</td>\n",
       "      <td>39</td>\n",
       "      <td>1</td>\n",
       "      <td>0.00</td>\n",
       "      <td>2</td>\n",
       "      <td>0</td>\n",
       "      <td>0</td>\n",
       "      <td>93826.63</td>\n",
       "      <td>0</td>\n",
       "    </tr>\n",
       "    <tr>\n",
       "      <th>4</th>\n",
       "      <td>15737888</td>\n",
       "      <td>Mitchell</td>\n",
       "      <td>850</td>\n",
       "      <td>Spain</td>\n",
       "      <td>Female</td>\n",
       "      <td>43</td>\n",
       "      <td>2</td>\n",
       "      <td>125510.82</td>\n",
       "      <td>1</td>\n",
       "      <td>1</td>\n",
       "      <td>1</td>\n",
       "      <td>79084.10</td>\n",
       "      <td>0</td>\n",
       "    </tr>\n",
       "  </tbody>\n",
       "</table>\n",
       "</div>"
      ],
      "text/plain": [
       "   CustomerId   Surname  CreditScore Geography  Gender  Age  Tenure  \\\n",
       "0    15634602  Hargrave          619    France  Female   42       2   \n",
       "1    15647311      Hill          608     Spain  Female   41       1   \n",
       "2    15619304      Onio          502    France  Female   42       8   \n",
       "3    15701354      Boni          699    France  Female   39       1   \n",
       "4    15737888  Mitchell          850     Spain  Female   43       2   \n",
       "\n",
       "     Balance  NumOfProducts  HasCrCard  IsActiveMember  EstimatedSalary  \\\n",
       "0       0.00              1          1               1        101348.88   \n",
       "1   83807.86              1          0               1        112542.58   \n",
       "2  159660.80              3          1               0        113931.57   \n",
       "3       0.00              2          0               0         93826.63   \n",
       "4  125510.82              1          1               1         79084.10   \n",
       "\n",
       "   Exited  \n",
       "0       1  \n",
       "1       0  \n",
       "2       1  \n",
       "3       0  \n",
       "4       0  "
      ]
     },
     "execution_count": 8,
     "metadata": {},
     "output_type": "execute_result"
    }
   ],
   "source": [
    "data.head()"
   ]
  },
  {
   "cell_type": "code",
   "execution_count": 9,
   "id": "d4cd6652",
   "metadata": {},
   "outputs": [],
   "source": [
    "categorical.remove(\"Age\")\n",
    "continuous.append(\"Age\")\n",
    "\n",
    "continuous.remove(\"Surname\")\n",
    "categorical.append(\"Surname\")"
   ]
  },
  {
   "cell_type": "code",
   "execution_count": 10,
   "id": "91ed60a7",
   "metadata": {},
   "outputs": [
    {
     "data": {
      "text/plain": [
       "dtype('int64')"
      ]
     },
     "execution_count": 10,
     "metadata": {},
     "output_type": "execute_result"
    }
   ],
   "source": [
    "data.Age.dtype"
   ]
  },
  {
   "cell_type": "markdown",
   "id": "1966eb51",
   "metadata": {},
   "source": [
    "# Outlier Treatment"
   ]
  },
  {
   "cell_type": "code",
   "execution_count": 11,
   "id": "d56b2e8b",
   "metadata": {},
   "outputs": [
    {
     "name": "stdout",
     "output_type": "stream",
     "text": [
      "row and column before removing outliers: (10000, 13)\n",
      "i is  CreditScore\n",
      "the lower range of CreditScore is 383.0\n",
      "the upper range of  CreditScore is 919.0\n",
      "total outliers in CreditScore are 15\n",
      "***************\n",
      "i is  Balance\n",
      "the lower range of Balance is -191466.36000000002\n",
      "the upper range of  Balance is 319110.60000000003\n",
      "total outliers in Balance are 0\n",
      "***************\n",
      "i is  EstimatedSalary\n",
      "the lower range of EstimatedSalary is -96577.09624999999\n",
      "the upper range of  EstimatedSalary is 296967.45375\n",
      "total outliers in EstimatedSalary are 0\n",
      "***************\n",
      "i is  Age\n",
      "the lower range of Age is 14.0\n",
      "the upper range of  Age is 62.0\n",
      "total outliers in Age are 359\n",
      "***************\n",
      "i is  Tenure\n",
      "the lower range of Tenure is -3.0\n",
      "the upper range of  Tenure is 13.0\n",
      "total outliers in Tenure are 0\n",
      "***************\n"
     ]
    }
   ],
   "source": [
    "print(\"row and column before removing outliers:\",data.shape)\n",
    "\n",
    "def myoutliers(data,col):\n",
    "    Q3=np.quantile(data[col],0.75)\n",
    "    Q1=np.quantile(data[col],0.25)\n",
    "    \n",
    "    IQR=Q3-Q1\n",
    "    \n",
    "    global mylist\n",
    "    global my_outlier_df\n",
    "    \n",
    "    lower_range=Q1-1.5*IQR\n",
    "    upper_range=Q3+1.5*IQR\n",
    "    \n",
    "    print('the lower range of',col,\"is\",lower_range)\n",
    "    print(\"the upper range of \",col,\"is\",upper_range)\n",
    "    \n",
    "    mylist=[x for x in data[col] if ((x<lower_range)|(x>upper_range))]\n",
    "    print(\"total outliers in\",col,\"are\",len(mylist))\n",
    "    my_outlier_df=data.loc[data[col].isin(mylist)]\n",
    "    \n",
    "k=['CreditScore','Balance','EstimatedSalary','Age','Tenure']        \n",
    "\n",
    "\n",
    "for i in k:\n",
    "    print(\"i is \",i)\n",
    "    myoutliers(data,i)\n",
    "    print(\"***************\")"
   ]
  },
  {
   "cell_type": "code",
   "execution_count": 12,
   "id": "dd3efa52",
   "metadata": {},
   "outputs": [
    {
     "data": {
      "text/plain": [
       "0    7963\n",
       "1    2037\n",
       "Name: Exited, dtype: int64"
      ]
     },
     "execution_count": 12,
     "metadata": {},
     "output_type": "execute_result"
    }
   ],
   "source": [
    "#data[\"Exited\"].nunique(axis=0)\n",
    "data[\"Exited\"].value_counts()"
   ]
  },
  {
   "cell_type": "markdown",
   "id": "72e38a29",
   "metadata": {},
   "source": [
    "## Univariate Analysis"
   ]
  },
  {
   "cell_type": "code",
   "execution_count": 13,
   "id": "d2db8145",
   "metadata": {},
   "outputs": [],
   "source": [
    "import matplotlib.pyplot as plt\n",
    "import seaborn as sns"
   ]
  },
  {
   "cell_type": "code",
   "execution_count": 14,
   "id": "81d9b908",
   "metadata": {},
   "outputs": [
    {
     "data": {
      "image/png": "[encoded data removed]",
      "text/plain": [
       "<Figure size 720x504 with 2 Axes>"
      ]
     },
     "metadata": {
      "needs_background": "light"
     },
     "output_type": "display_data"
    }
   ],
   "source": [
    "fig,ax=plt.subplots(figsize=(10,7))\n",
    "sns.heatmap(data.corr(),annot=True,cmap=\"BuPu\")\n",
    "plt.show()"
   ]
  },
  {
   "cell_type": "code",
   "execution_count": 15,
   "id": "7e7bf2df",
   "metadata": {},
   "outputs": [
    {
     "data": {
      "image/png": "[encoded data removed]",
      "text/plain": [
       "<Figure size 720x576 with 1 Axes>"
      ]
     },
     "metadata": {},
     "output_type": "display_data"
    }
   ],
   "source": [
    "labels = 'Exited', 'Retained'\n",
    "sizes = [data.Exited[data['Exited']==1].count(), data.Exited[data['Exited']==0].count()]\n",
    "explode = (0, 0.1)\n",
    "fig1, ax1 = plt.subplots(figsize=(10, 8))\n",
    "ax1.pie(sizes, explode=explode, labels=labels, autopct='%1.1f%%')\n",
    "plt.title(\"Proportion of customer churned and retained\", size = 20)\n",
    "plt.show()"
   ]
  },
  {
   "cell_type": "code",
   "execution_count": 16,
   "id": "d4ba7560",
   "metadata": {
    "scrolled": true
   },
   "outputs": [
    {
     "data": {
      "image/png": "[encoded data removed]",
      "text/plain": [
       "<Figure size 1080x504 with 1 Axes>"
      ]
     },
     "metadata": {
      "needs_background": "light"
     },
     "output_type": "display_data"
    }
   ],
   "source": [
    "fig,ax=plt.subplots(figsize=(15,7))\n",
    "sns.histplot(x=data['Age'], bins=10,color='r')\n",
    "#sns.boxplot(y=data['Age'],ax=ax[1]).set(title='Age')\n",
    "plt.show()"
   ]
  },
  {
   "cell_type": "code",
   "execution_count": 17,
   "id": "63a8a6e4",
   "metadata": {},
   "outputs": [
    {
     "data": {
      "image/png": "[encoded data removed]",
      "text/plain": [
       "<Figure size 1080x504 with 2 Axes>"
      ]
     },
     "metadata": {
      "needs_background": "light"
     },
     "output_type": "display_data"
    }
   ],
   "source": [
    "fig,ax=plt.subplots(1,2,figsize=(15,7))\n",
    "sns.histplot(x=data['CreditScore'],ax=ax[0],bins=5,color='b')\n",
    "sns.boxplot(y=data['CreditScore'],ax=ax[1]).set(title='CreditScore')\n",
    "plt.show()"
   ]
  },
  {
   "cell_type": "code",
   "execution_count": null,
   "id": "38ab5926",
   "metadata": {},
   "outputs": [],
   "source": []
  },
  {
   "cell_type": "markdown",
   "id": "2cc783b1",
   "metadata": {},
   "source": [
    "## Bivariate"
   ]
  },
  {
   "cell_type": "code",
   "execution_count": 18,
   "id": "ecfec841",
   "metadata": {
    "scrolled": true
   },
   "outputs": [
    {
     "data": {
      "image/png": "[encoded data removed]",
      "text/plain": [
       "<Figure size 720x720 with 4 Axes>"
      ]
     },
     "metadata": {
      "needs_background": "light"
     },
     "output_type": "display_data"
    }
   ],
   "source": [
    "fig,ax=plt.subplots(2,2,figsize=(10,10))\n",
    "sns.countplot(x='HasCrCard',hue='Exited',data=data,ax=ax[0,0])\n",
    "ax[0,0].set_title('')\n",
    "sns.countplot(x='Gender',hue='Exited',data=data,ax=ax[0,1])\n",
    "ax[0,1].set_title('')\n",
    "sns.countplot(x='IsActiveMember',hue='Exited',data=data,ax=ax[1,0])\n",
    "ax[1,0].set_title('')\n",
    "sns.countplot(x='NumOfProducts',hue='Exited',data=data,ax=ax[1,1])\n",
    "ax[1,1].set_title('')\n",
    "plt.show()  "
   ]
  },
  {
   "cell_type": "code",
   "execution_count": 19,
   "id": "e290146f",
   "metadata": {},
   "outputs": [
    {
     "data": {
      "text/plain": [
       "<AxesSubplot:xlabel='Geography', ylabel='count'>"
      ]
     },
     "execution_count": 19,
     "metadata": {},
     "output_type": "execute_result"
    },
    {
     "data": {
      "image/png": "[encoded data removed]",
      "text/plain": [
       "<Figure size 1440x864 with 1 Axes>"
      ]
     },
     "metadata": {
      "needs_background": "light"
     },
     "output_type": "display_data"
    }
   ],
   "source": [
    "fig, axarr = plt.subplots(figsize=(20, 12))\n",
    "sns.countplot(x='Geography', hue = 'Gender',data = data)"
   ]
  },
  {
   "cell_type": "markdown",
   "id": "efbec51f",
   "metadata": {},
   "source": [
    "## Multivariate"
   ]
  },
  {
   "cell_type": "code",
   "execution_count": 20,
   "id": "5ceb7321",
   "metadata": {},
   "outputs": [
    {
     "data": {
      "image/png": "[encoded data removed]",
      "text/plain": [
       "<Figure size 720x504 with 1 Axes>"
      ]
     },
     "metadata": {
      "needs_background": "light"
     },
     "output_type": "display_data"
    }
   ],
   "source": [
    "fig,ax= plt.subplots(figsize=(10,7))\n",
    "sns.barplot(x=data['Gender'],y=data['EstimatedSalary'],hue=data['Exited'],ci=None,ax=ax)\n",
    "count=len(data['Gender'])\n",
    "\n",
    "for bar in ax.patches:\n",
    "        count = f\"{round((bar.get_height()), 2)}\" \n",
    "        x = bar.get_x() +bar.get_width() /2 \n",
    "        y=bar.get_height() \n",
    "        ax.annotate (count, (x, y), ha = \"center\", va = \"top\")\n",
    "plt.show()\n"
   ]
  },
  {
   "cell_type": "code",
   "execution_count": 21,
   "id": "30fcf131",
   "metadata": {},
   "outputs": [],
   "source": [
    "data = pd.get_dummies(data, columns =[\"Geography\", \"Gender\"], drop_first = False)"
   ]
  },
  {
   "cell_type": "code",
   "execution_count": 22,
   "id": "23f77c8d",
   "metadata": {},
   "outputs": [
    {
     "data": {
      "text/html": [
       "<div>\n",
       "<style scoped>\n",
       "    .dataframe tbody tr th:only-of-type {\n",
       "        vertical-align: middle;\n",
       "    }\n",
       "\n",
       "    .dataframe tbody tr th {\n",
       "        vertical-align: top;\n",
       "    }\n",
       "\n",
       "    .dataframe thead th {\n",
       "        text-align: right;\n",
       "    }\n",
       "</style>\n",
       "<table border=\"1\" class=\"dataframe\">\n",
       "  <thead>\n",
       "    <tr style=\"text-align: right;\">\n",
       "      <th></th>\n",
       "      <th>CustomerId</th>\n",
       "      <th>Surname</th>\n",
       "      <th>CreditScore</th>\n",
       "      <th>Age</th>\n",
       "      <th>Tenure</th>\n",
       "      <th>Balance</th>\n",
       "      <th>NumOfProducts</th>\n",
       "      <th>HasCrCard</th>\n",
       "      <th>IsActiveMember</th>\n",
       "      <th>EstimatedSalary</th>\n",
       "      <th>...</th>\n",
       "      <th>Geography_Spain</th>\n",
       "      <th>Geography_espanio</th>\n",
       "      <th>Geography_fra</th>\n",
       "      <th>Geography_france</th>\n",
       "      <th>Geography_ger</th>\n",
       "      <th>Geography_germany</th>\n",
       "      <th>Geography_gernamy</th>\n",
       "      <th>Geography_spain</th>\n",
       "      <th>Gender_Female</th>\n",
       "      <th>Gender_Male</th>\n",
       "    </tr>\n",
       "  </thead>\n",
       "  <tbody>\n",
       "    <tr>\n",
       "      <th>0</th>\n",
       "      <td>15634602</td>\n",
       "      <td>Hargrave</td>\n",
       "      <td>619</td>\n",
       "      <td>42</td>\n",
       "      <td>2</td>\n",
       "      <td>0.00</td>\n",
       "      <td>1</td>\n",
       "      <td>1</td>\n",
       "      <td>1</td>\n",
       "      <td>101348.88</td>\n",
       "      <td>...</td>\n",
       "      <td>0</td>\n",
       "      <td>0</td>\n",
       "      <td>0</td>\n",
       "      <td>0</td>\n",
       "      <td>0</td>\n",
       "      <td>0</td>\n",
       "      <td>0</td>\n",
       "      <td>0</td>\n",
       "      <td>1</td>\n",
       "      <td>0</td>\n",
       "    </tr>\n",
       "    <tr>\n",
       "      <th>1</th>\n",
       "      <td>15647311</td>\n",
       "      <td>Hill</td>\n",
       "      <td>608</td>\n",
       "      <td>41</td>\n",
       "      <td>1</td>\n",
       "      <td>83807.86</td>\n",
       "      <td>1</td>\n",
       "      <td>0</td>\n",
       "      <td>1</td>\n",
       "      <td>112542.58</td>\n",
       "      <td>...</td>\n",
       "      <td>1</td>\n",
       "      <td>0</td>\n",
       "      <td>0</td>\n",
       "      <td>0</td>\n",
       "      <td>0</td>\n",
       "      <td>0</td>\n",
       "      <td>0</td>\n",
       "      <td>0</td>\n",
       "      <td>1</td>\n",
       "      <td>0</td>\n",
       "    </tr>\n",
       "    <tr>\n",
       "      <th>2</th>\n",
       "      <td>15619304</td>\n",
       "      <td>Onio</td>\n",
       "      <td>502</td>\n",
       "      <td>42</td>\n",
       "      <td>8</td>\n",
       "      <td>159660.80</td>\n",
       "      <td>3</td>\n",
       "      <td>1</td>\n",
       "      <td>0</td>\n",
       "      <td>113931.57</td>\n",
       "      <td>...</td>\n",
       "      <td>0</td>\n",
       "      <td>0</td>\n",
       "      <td>0</td>\n",
       "      <td>0</td>\n",
       "      <td>0</td>\n",
       "      <td>0</td>\n",
       "      <td>0</td>\n",
       "      <td>0</td>\n",
       "      <td>1</td>\n",
       "      <td>0</td>\n",
       "    </tr>\n",
       "    <tr>\n",
       "      <th>3</th>\n",
       "      <td>15701354</td>\n",
       "      <td>Boni</td>\n",
       "      <td>699</td>\n",
       "      <td>39</td>\n",
       "      <td>1</td>\n",
       "      <td>0.00</td>\n",
       "      <td>2</td>\n",
       "      <td>0</td>\n",
       "      <td>0</td>\n",
       "      <td>93826.63</td>\n",
       "      <td>...</td>\n",
       "      <td>0</td>\n",
       "      <td>0</td>\n",
       "      <td>0</td>\n",
       "      <td>0</td>\n",
       "      <td>0</td>\n",
       "      <td>0</td>\n",
       "      <td>0</td>\n",
       "      <td>0</td>\n",
       "      <td>1</td>\n",
       "      <td>0</td>\n",
       "    </tr>\n",
       "    <tr>\n",
       "      <th>4</th>\n",
       "      <td>15737888</td>\n",
       "      <td>Mitchell</td>\n",
       "      <td>850</td>\n",
       "      <td>43</td>\n",
       "      <td>2</td>\n",
       "      <td>125510.82</td>\n",
       "      <td>1</td>\n",
       "      <td>1</td>\n",
       "      <td>1</td>\n",
       "      <td>79084.10</td>\n",
       "      <td>...</td>\n",
       "      <td>1</td>\n",
       "      <td>0</td>\n",
       "      <td>0</td>\n",
       "      <td>0</td>\n",
       "      <td>0</td>\n",
       "      <td>0</td>\n",
       "      <td>0</td>\n",
       "      <td>0</td>\n",
       "      <td>1</td>\n",
       "      <td>0</td>\n",
       "    </tr>\n",
       "    <tr>\n",
       "      <th>...</th>\n",
       "      <td>...</td>\n",
       "      <td>...</td>\n",
       "      <td>...</td>\n",
       "      <td>...</td>\n",
       "      <td>...</td>\n",
       "      <td>...</td>\n",
       "      <td>...</td>\n",
       "      <td>...</td>\n",
       "      <td>...</td>\n",
       "      <td>...</td>\n",
       "      <td>...</td>\n",
       "      <td>...</td>\n",
       "      <td>...</td>\n",
       "      <td>...</td>\n",
       "      <td>...</td>\n",
       "      <td>...</td>\n",
       "      <td>...</td>\n",
       "      <td>...</td>\n",
       "      <td>...</td>\n",
       "      <td>...</td>\n",
       "      <td>...</td>\n",
       "    </tr>\n",
       "    <tr>\n",
       "      <th>9995</th>\n",
       "      <td>15606229</td>\n",
       "      <td>Obijiaku</td>\n",
       "      <td>771</td>\n",
       "      <td>39</td>\n",
       "      <td>5</td>\n",
       "      <td>0.00</td>\n",
       "      <td>2</td>\n",
       "      <td>1</td>\n",
       "      <td>0</td>\n",
       "      <td>96270.64</td>\n",
       "      <td>...</td>\n",
       "      <td>0</td>\n",
       "      <td>0</td>\n",
       "      <td>0</td>\n",
       "      <td>0</td>\n",
       "      <td>0</td>\n",
       "      <td>0</td>\n",
       "      <td>0</td>\n",
       "      <td>0</td>\n",
       "      <td>0</td>\n",
       "      <td>1</td>\n",
       "    </tr>\n",
       "    <tr>\n",
       "      <th>9996</th>\n",
       "      <td>15569892</td>\n",
       "      <td>Johnstone</td>\n",
       "      <td>516</td>\n",
       "      <td>35</td>\n",
       "      <td>10</td>\n",
       "      <td>57369.61</td>\n",
       "      <td>1</td>\n",
       "      <td>1</td>\n",
       "      <td>1</td>\n",
       "      <td>101699.77</td>\n",
       "      <td>...</td>\n",
       "      <td>0</td>\n",
       "      <td>0</td>\n",
       "      <td>0</td>\n",
       "      <td>0</td>\n",
       "      <td>0</td>\n",
       "      <td>0</td>\n",
       "      <td>0</td>\n",
       "      <td>0</td>\n",
       "      <td>0</td>\n",
       "      <td>1</td>\n",
       "    </tr>\n",
       "    <tr>\n",
       "      <th>9997</th>\n",
       "      <td>15584532</td>\n",
       "      <td>Liu</td>\n",
       "      <td>709</td>\n",
       "      <td>36</td>\n",
       "      <td>7</td>\n",
       "      <td>0.00</td>\n",
       "      <td>1</td>\n",
       "      <td>0</td>\n",
       "      <td>1</td>\n",
       "      <td>42085.58</td>\n",
       "      <td>...</td>\n",
       "      <td>0</td>\n",
       "      <td>0</td>\n",
       "      <td>0</td>\n",
       "      <td>0</td>\n",
       "      <td>0</td>\n",
       "      <td>0</td>\n",
       "      <td>0</td>\n",
       "      <td>0</td>\n",
       "      <td>1</td>\n",
       "      <td>0</td>\n",
       "    </tr>\n",
       "    <tr>\n",
       "      <th>9998</th>\n",
       "      <td>15682355</td>\n",
       "      <td>Sabbatini</td>\n",
       "      <td>772</td>\n",
       "      <td>42</td>\n",
       "      <td>3</td>\n",
       "      <td>75075.31</td>\n",
       "      <td>2</td>\n",
       "      <td>1</td>\n",
       "      <td>0</td>\n",
       "      <td>92888.52</td>\n",
       "      <td>...</td>\n",
       "      <td>0</td>\n",
       "      <td>0</td>\n",
       "      <td>0</td>\n",
       "      <td>0</td>\n",
       "      <td>0</td>\n",
       "      <td>0</td>\n",
       "      <td>0</td>\n",
       "      <td>0</td>\n",
       "      <td>0</td>\n",
       "      <td>1</td>\n",
       "    </tr>\n",
       "    <tr>\n",
       "      <th>9999</th>\n",
       "      <td>15628319</td>\n",
       "      <td>Walker</td>\n",
       "      <td>792</td>\n",
       "      <td>28</td>\n",
       "      <td>4</td>\n",
       "      <td>130142.79</td>\n",
       "      <td>1</td>\n",
       "      <td>1</td>\n",
       "      <td>0</td>\n",
       "      <td>38190.78</td>\n",
       "      <td>...</td>\n",
       "      <td>0</td>\n",
       "      <td>0</td>\n",
       "      <td>0</td>\n",
       "      <td>0</td>\n",
       "      <td>0</td>\n",
       "      <td>0</td>\n",
       "      <td>0</td>\n",
       "      <td>0</td>\n",
       "      <td>1</td>\n",
       "      <td>0</td>\n",
       "    </tr>\n",
       "  </tbody>\n",
       "</table>\n",
       "<p>10000 rows × 24 columns</p>\n",
       "</div>"
      ],
      "text/plain": [
       "      CustomerId    Surname  CreditScore  Age  Tenure    Balance  \\\n",
       "0       15634602   Hargrave          619   42       2       0.00   \n",
       "1       15647311       Hill          608   41       1   83807.86   \n",
       "2       15619304       Onio          502   42       8  159660.80   \n",
       "3       15701354       Boni          699   39       1       0.00   \n",
       "4       15737888   Mitchell          850   43       2  125510.82   \n",
       "...          ...        ...          ...  ...     ...        ...   \n",
       "9995    15606229   Obijiaku          771   39       5       0.00   \n",
       "9996    15569892  Johnstone          516   35      10   57369.61   \n",
       "9997    15584532        Liu          709   36       7       0.00   \n",
       "9998    15682355  Sabbatini          772   42       3   75075.31   \n",
       "9999    15628319     Walker          792   28       4  130142.79   \n",
       "\n",
       "      NumOfProducts  HasCrCard  IsActiveMember  EstimatedSalary  ...  \\\n",
       "0                 1          1               1        101348.88  ...   \n",
       "1                 1          0               1        112542.58  ...   \n",
       "2                 3          1               0        113931.57  ...   \n",
       "3                 2          0               0         93826.63  ...   \n",
       "4                 1          1               1         79084.10  ...   \n",
       "...             ...        ...             ...              ...  ...   \n",
       "9995              2          1               0         96270.64  ...   \n",
       "9996              1          1               1        101699.77  ...   \n",
       "9997              1          0               1         42085.58  ...   \n",
       "9998              2          1               0         92888.52  ...   \n",
       "9999              1          1               0         38190.78  ...   \n",
       "\n",
       "      Geography_Spain  Geography_espanio  Geography_fra  Geography_france  \\\n",
       "0                   0                  0              0                 0   \n",
       "1                   1                  0              0                 0   \n",
       "2                   0                  0              0                 0   \n",
       "3                   0                  0              0                 0   \n",
       "4                   1                  0              0                 0   \n",
       "...               ...                ...            ...               ...   \n",
       "9995                0                  0              0                 0   \n",
       "9996                0                  0              0                 0   \n",
       "9997                0                  0              0                 0   \n",
       "9998                0                  0              0                 0   \n",
       "9999                0                  0              0                 0   \n",
       "\n",
       "      Geography_ger  Geography_germany  Geography_gernamy  Geography_spain  \\\n",
       "0                 0                  0                  0                0   \n",
       "1                 0                  0                  0                0   \n",
       "2                 0                  0                  0                0   \n",
       "3                 0                  0                  0                0   \n",
       "4                 0                  0                  0                0   \n",
       "...             ...                ...                ...              ...   \n",
       "9995              0                  0                  0                0   \n",
       "9996              0                  0                  0                0   \n",
       "9997              0                  0                  0                0   \n",
       "9998              0                  0                  0                0   \n",
       "9999              0                  0                  0                0   \n",
       "\n",
       "      Gender_Female  Gender_Male  \n",
       "0                 1            0  \n",
       "1                 1            0  \n",
       "2                 1            0  \n",
       "3                 1            0  \n",
       "4                 1            0  \n",
       "...             ...          ...  \n",
       "9995              0            1  \n",
       "9996              0            1  \n",
       "9997              1            0  \n",
       "9998              0            1  \n",
       "9999              1            0  \n",
       "\n",
       "[10000 rows x 24 columns]"
      ]
     },
     "execution_count": 22,
     "metadata": {},
     "output_type": "execute_result"
    }
   ],
   "source": [
    "data"
   ]
  },
  {
   "cell_type": "code",
   "execution_count": 23,
   "id": "97e16e22",
   "metadata": {},
   "outputs": [
    {
     "data": {
      "text/plain": [
       "Index(['CustomerId', 'Surname', 'CreditScore', 'Age', 'Tenure', 'Balance',\n",
       "       'NumOfProducts', 'HasCrCard', 'IsActiveMember', 'EstimatedSalary',\n",
       "       'Exited', 'Geography_France', 'Geography_GERMANY', 'Geography_Germany',\n",
       "       'Geography_Spain', 'Geography_espanio', 'Geography_fra',\n",
       "       'Geography_france', 'Geography_ger', 'Geography_germany',\n",
       "       'Geography_gernamy', 'Geography_spain', 'Gender_Female', 'Gender_Male'],\n",
       "      dtype='object')"
      ]
     },
     "execution_count": 23,
     "metadata": {},
     "output_type": "execute_result"
    }
   ],
   "source": [
    "data.columns"
   ]
  },
  {
   "cell_type": "code",
   "execution_count": 24,
   "id": "b9f6d335",
   "metadata": {},
   "outputs": [],
   "source": [
    "data.drop(['CustomerId', 'Surname'], axis='columns', inplace=True)"
   ]
  },
  {
   "cell_type": "markdown",
   "id": "61057958",
   "metadata": {},
   "source": [
    "## Scaling the data"
   ]
  },
  {
   "cell_type": "code",
   "execution_count": 25,
   "id": "5b463cf8",
   "metadata": {},
   "outputs": [
    {
     "data": {
      "text/html": [
       "<div>\n",
       "<style scoped>\n",
       "    .dataframe tbody tr th:only-of-type {\n",
       "        vertical-align: middle;\n",
       "    }\n",
       "\n",
       "    .dataframe tbody tr th {\n",
       "        vertical-align: top;\n",
       "    }\n",
       "\n",
       "    .dataframe thead th {\n",
       "        text-align: right;\n",
       "    }\n",
       "</style>\n",
       "<table border=\"1\" class=\"dataframe\">\n",
       "  <thead>\n",
       "    <tr style=\"text-align: right;\">\n",
       "      <th></th>\n",
       "      <th>CreditScore</th>\n",
       "      <th>Age</th>\n",
       "      <th>Tenure</th>\n",
       "      <th>Balance</th>\n",
       "      <th>NumOfProducts</th>\n",
       "      <th>HasCrCard</th>\n",
       "      <th>IsActiveMember</th>\n",
       "      <th>EstimatedSalary</th>\n",
       "      <th>Exited</th>\n",
       "      <th>Geography_France</th>\n",
       "      <th>...</th>\n",
       "      <th>Geography_Spain</th>\n",
       "      <th>Geography_espanio</th>\n",
       "      <th>Geography_fra</th>\n",
       "      <th>Geography_france</th>\n",
       "      <th>Geography_ger</th>\n",
       "      <th>Geography_germany</th>\n",
       "      <th>Geography_gernamy</th>\n",
       "      <th>Geography_spain</th>\n",
       "      <th>Gender_Female</th>\n",
       "      <th>Gender_Male</th>\n",
       "    </tr>\n",
       "  </thead>\n",
       "  <tbody>\n",
       "    <tr>\n",
       "      <th>0</th>\n",
       "      <td>0.538</td>\n",
       "      <td>42</td>\n",
       "      <td>2</td>\n",
       "      <td>0.000000</td>\n",
       "      <td>1</td>\n",
       "      <td>1</td>\n",
       "      <td>1</td>\n",
       "      <td>0.506735</td>\n",
       "      <td>1</td>\n",
       "      <td>1</td>\n",
       "      <td>...</td>\n",
       "      <td>0</td>\n",
       "      <td>0</td>\n",
       "      <td>0</td>\n",
       "      <td>0</td>\n",
       "      <td>0</td>\n",
       "      <td>0</td>\n",
       "      <td>0</td>\n",
       "      <td>0</td>\n",
       "      <td>1</td>\n",
       "      <td>0</td>\n",
       "    </tr>\n",
       "    <tr>\n",
       "      <th>1</th>\n",
       "      <td>0.516</td>\n",
       "      <td>41</td>\n",
       "      <td>1</td>\n",
       "      <td>0.334031</td>\n",
       "      <td>1</td>\n",
       "      <td>0</td>\n",
       "      <td>1</td>\n",
       "      <td>0.562709</td>\n",
       "      <td>0</td>\n",
       "      <td>0</td>\n",
       "      <td>...</td>\n",
       "      <td>1</td>\n",
       "      <td>0</td>\n",
       "      <td>0</td>\n",
       "      <td>0</td>\n",
       "      <td>0</td>\n",
       "      <td>0</td>\n",
       "      <td>0</td>\n",
       "      <td>0</td>\n",
       "      <td>1</td>\n",
       "      <td>0</td>\n",
       "    </tr>\n",
       "    <tr>\n",
       "      <th>2</th>\n",
       "      <td>0.304</td>\n",
       "      <td>42</td>\n",
       "      <td>8</td>\n",
       "      <td>0.636357</td>\n",
       "      <td>3</td>\n",
       "      <td>1</td>\n",
       "      <td>0</td>\n",
       "      <td>0.569654</td>\n",
       "      <td>1</td>\n",
       "      <td>1</td>\n",
       "      <td>...</td>\n",
       "      <td>0</td>\n",
       "      <td>0</td>\n",
       "      <td>0</td>\n",
       "      <td>0</td>\n",
       "      <td>0</td>\n",
       "      <td>0</td>\n",
       "      <td>0</td>\n",
       "      <td>0</td>\n",
       "      <td>1</td>\n",
       "      <td>0</td>\n",
       "    </tr>\n",
       "    <tr>\n",
       "      <th>3</th>\n",
       "      <td>0.698</td>\n",
       "      <td>39</td>\n",
       "      <td>1</td>\n",
       "      <td>0.000000</td>\n",
       "      <td>2</td>\n",
       "      <td>0</td>\n",
       "      <td>0</td>\n",
       "      <td>0.469120</td>\n",
       "      <td>0</td>\n",
       "      <td>1</td>\n",
       "      <td>...</td>\n",
       "      <td>0</td>\n",
       "      <td>0</td>\n",
       "      <td>0</td>\n",
       "      <td>0</td>\n",
       "      <td>0</td>\n",
       "      <td>0</td>\n",
       "      <td>0</td>\n",
       "      <td>0</td>\n",
       "      <td>1</td>\n",
       "      <td>0</td>\n",
       "    </tr>\n",
       "    <tr>\n",
       "      <th>4</th>\n",
       "      <td>1.000</td>\n",
       "      <td>43</td>\n",
       "      <td>2</td>\n",
       "      <td>0.500246</td>\n",
       "      <td>1</td>\n",
       "      <td>1</td>\n",
       "      <td>1</td>\n",
       "      <td>0.395400</td>\n",
       "      <td>0</td>\n",
       "      <td>0</td>\n",
       "      <td>...</td>\n",
       "      <td>1</td>\n",
       "      <td>0</td>\n",
       "      <td>0</td>\n",
       "      <td>0</td>\n",
       "      <td>0</td>\n",
       "      <td>0</td>\n",
       "      <td>0</td>\n",
       "      <td>0</td>\n",
       "      <td>1</td>\n",
       "      <td>0</td>\n",
       "    </tr>\n",
       "  </tbody>\n",
       "</table>\n",
       "<p>5 rows × 22 columns</p>\n",
       "</div>"
      ],
      "text/plain": [
       "   CreditScore  Age  Tenure   Balance  NumOfProducts  HasCrCard  \\\n",
       "0        0.538   42       2  0.000000              1          1   \n",
       "1        0.516   41       1  0.334031              1          0   \n",
       "2        0.304   42       8  0.636357              3          1   \n",
       "3        0.698   39       1  0.000000              2          0   \n",
       "4        1.000   43       2  0.500246              1          1   \n",
       "\n",
       "   IsActiveMember  EstimatedSalary  Exited  Geography_France  ...  \\\n",
       "0               1         0.506735       1                 1  ...   \n",
       "1               1         0.562709       0                 0  ...   \n",
       "2               0         0.569654       1                 1  ...   \n",
       "3               0         0.469120       0                 1  ...   \n",
       "4               1         0.395400       0                 0  ...   \n",
       "\n",
       "   Geography_Spain  Geography_espanio  Geography_fra  Geography_france  \\\n",
       "0                0                  0              0                 0   \n",
       "1                1                  0              0                 0   \n",
       "2                0                  0              0                 0   \n",
       "3                0                  0              0                 0   \n",
       "4                1                  0              0                 0   \n",
       "\n",
       "   Geography_ger  Geography_germany  Geography_gernamy  Geography_spain  \\\n",
       "0              0                  0                  0                0   \n",
       "1              0                  0                  0                0   \n",
       "2              0                  0                  0                0   \n",
       "3              0                  0                  0                0   \n",
       "4              0                  0                  0                0   \n",
       "\n",
       "   Gender_Female  Gender_Male  \n",
       "0              1            0  \n",
       "1              1            0  \n",
       "2              1            0  \n",
       "3              1            0  \n",
       "4              1            0  \n",
       "\n",
       "[5 rows x 22 columns]"
      ]
     },
     "execution_count": 25,
     "metadata": {},
     "output_type": "execute_result"
    }
   ],
   "source": [
    "from sklearn.preprocessing import MinMaxScaler\n",
    "MinMax_scaler = MinMaxScaler()\n",
    "\n",
    "scale_columns = ['CreditScore','EstimatedSalary','Balance']\n",
    "data[scale_columns] = MinMax_scaler.fit_transform(data[scale_columns])\n",
    "\n",
    "data.head()"
   ]
  },
  {
   "cell_type": "code",
   "execution_count": 26,
   "id": "0015081e",
   "metadata": {},
   "outputs": [],
   "source": [
    "MODEL = []\n",
    "accuracy = []\n",
    "recall =  [] \n",
    "f1score = []\n",
    "precision = []\n"
   ]
  },
  {
   "cell_type": "code",
   "execution_count": 27,
   "id": "603aac64",
   "metadata": {},
   "outputs": [],
   "source": [
    "from sklearn.model_selection import train_test_split, cross_val_predict\n",
    "from sklearn.model_selection import train_test_split\n",
    "from sklearn.linear_model import LogisticRegression"
   ]
  },
  {
   "cell_type": "code",
   "execution_count": 28,
   "id": "5de856b3",
   "metadata": {},
   "outputs": [],
   "source": [
    "x=data.drop('Exited', axis=1)\n",
    "y=data['Exited']"
   ]
  },
  {
   "cell_type": "code",
   "execution_count": 29,
   "id": "8ce6d94c",
   "metadata": {},
   "outputs": [
    {
     "name": "stdout",
     "output_type": "stream",
     "text": [
      "X_train=(7500, 21),X_test=(2500, 21),y_train=(7500,),y_test=(2500,)\n"
     ]
    }
   ],
   "source": [
    "X_train, X_test, y_train, y_test = train_test_split(x,y, test_size=0.25, random_state=42)\n",
    "print(\"X_train={},X_test={},y_train={},y_test={}\".format(X_train.shape,X_test.shape,y_train.shape,y_test.shape))"
   ]
  },
  {
   "cell_type": "code",
   "execution_count": 30,
   "id": "6d586af1",
   "metadata": {},
   "outputs": [],
   "source": [
    "# Logistic Regression - training the model\n",
    "logreg = LogisticRegression()\n",
    "logreg.fit(X_train, y_train)\n",
    "# Using the trained model to predict the outcome of the X_Test dataset\n",
    "pred_log = logreg.predict(X_test)\n",
    "#Calculating the accuracy of the training dataset\n",
    "acc_log = round(logreg.score(X_train, y_train) * 100, 2)"
   ]
  },
  {
   "cell_type": "code",
   "execution_count": 31,
   "id": "c9bbabbc",
   "metadata": {},
   "outputs": [
    {
     "name": "stdout",
     "output_type": "stream",
     "text": [
      "accuracy: 0.8076\n",
      "recall: 0.8076\n",
      "f1-score: 0.7684698791190594\n",
      "precision: 0.5459770114942529\n"
     ]
    }
   ],
   "source": [
    "from sklearn.metrics import recall_score\n",
    "from sklearn.metrics import f1_score\n",
    "from sklearn.metrics import accuracy_score\n",
    "from sklearn.metrics import precision_score\n",
    "\n",
    "print('accuracy:', accuracy_score(y_test, pred_log))\n",
    "print('recall:', recall_score(y_test, pred_log, average='weighted'))\n",
    "print('f1-score:', f1_score(y_test, pred_log, average='weighted'))\n",
    "print('precision:', precision_score(y_test,pred_log))"
   ]
  },
  {
   "cell_type": "code",
   "execution_count": 32,
   "id": "8ab4585f",
   "metadata": {},
   "outputs": [
    {
     "data": {
      "text/plain": [
       "0.8076"
      ]
     },
     "execution_count": 32,
     "metadata": {},
     "output_type": "execute_result"
    }
   ],
   "source": [
    "acc_log=accuracy_score(y_test, pred_log)\n",
    "acc_log"
   ]
  },
  {
   "cell_type": "code",
   "execution_count": 33,
   "id": "fc1b0af8",
   "metadata": {},
   "outputs": [],
   "source": [
    "MODEL.append('Logistic Regression')\n",
    "accuracy.append(accuracy_score(y_test, pred_log))\n",
    "recall.append( recall_score(y_test, pred_log,average='weighted'))\n",
    "f1score.append(f1_score(y_test, pred_log,average='weighted'))\n",
    "precision.append(precision_score(y_test,pred_log))"
   ]
  },
  {
   "cell_type": "markdown",
   "id": "ac1011bf",
   "metadata": {},
   "source": [
    "## KNeighborsClassifier"
   ]
  },
  {
   "cell_type": "code",
   "execution_count": 34,
   "id": "e94d8b37",
   "metadata": {},
   "outputs": [],
   "source": [
    "from sklearn.neighbors import KNeighborsClassifier"
   ]
  },
  {
   "cell_type": "code",
   "execution_count": 35,
   "id": "8293088c",
   "metadata": {},
   "outputs": [],
   "source": [
    "model = KNeighborsClassifier(n_neighbors=3)#k value\n",
    "\n",
    "model.fit(X_train, y_train)\n",
    "\n",
    "pred_KNN= model.predict(X_test)\n",
    "\n",
    "acc_KNN = round(model.score(X_train, y_train) * 100, 2)"
   ]
  },
  {
   "cell_type": "code",
   "execution_count": 36,
   "id": "4104bcc6",
   "metadata": {},
   "outputs": [
    {
     "data": {
      "text/plain": [
       "0.8176"
      ]
     },
     "execution_count": 36,
     "metadata": {},
     "output_type": "execute_result"
    }
   ],
   "source": [
    "acc_KNN =accuracy_score(y_test, pred_KNN)\n",
    "acc_KNN"
   ]
  },
  {
   "cell_type": "code",
   "execution_count": 37,
   "id": "54295f7a",
   "metadata": {},
   "outputs": [],
   "source": [
    "MODEL.append('KNeighborsClassifier')\n",
    "accuracy.append(accuracy_score(y_test,pred_KNN))\n",
    "recall.append( recall_score(y_test,pred_KNN,average='weighted'))\n",
    "f1score.append(f1_score(y_test, pred_KNN,average='weighted'))\n",
    "precision.append(precision_score(y_test,pred_KNN))"
   ]
  },
  {
   "cell_type": "markdown",
   "id": "eb51e14b",
   "metadata": {},
   "source": [
    "## DecisionTreeClassifier"
   ]
  },
  {
   "cell_type": "code",
   "execution_count": 38,
   "id": "8b748b84",
   "metadata": {},
   "outputs": [],
   "source": [
    "from sklearn.tree import DecisionTreeClassifier\n",
    "from sklearn import metrics"
   ]
  },
  {
   "cell_type": "code",
   "execution_count": 39,
   "id": "6f947e92",
   "metadata": {},
   "outputs": [],
   "source": [
    "# Create Decision Tree classifer object\n",
    "clf = DecisionTreeClassifier(max_depth=3)\n",
    "\n",
    "# Train Decision Tree Classifer\n",
    "clf = clf.fit(X_train,y_train)\n",
    "\n",
    "#Predict the response for test dataset\n",
    "pred_DTC = clf.predict(X_test)"
   ]
  },
  {
   "cell_type": "code",
   "execution_count": 40,
   "id": "fa189b14",
   "metadata": {},
   "outputs": [
    {
     "name": "stdout",
     "output_type": "stream",
     "text": [
      "Accuracy: 0.8496\n"
     ]
    }
   ],
   "source": [
    "# Model Accuracy, how often is the classifier correct?\n",
    "print(\"Accuracy:\",metrics.accuracy_score(y_test, pred_DTC))"
   ]
  },
  {
   "cell_type": "code",
   "execution_count": 41,
   "id": "503d5107",
   "metadata": {},
   "outputs": [
    {
     "data": {
      "text/plain": [
       "0.8496"
      ]
     },
     "execution_count": 41,
     "metadata": {},
     "output_type": "execute_result"
    }
   ],
   "source": [
    "acc_DTC=metrics.accuracy_score(y_test, pred_DTC)\n",
    "acc_DTC"
   ]
  },
  {
   "cell_type": "code",
   "execution_count": 42,
   "id": "1dbe9630",
   "metadata": {},
   "outputs": [
    {
     "name": "stdout",
     "output_type": "stream",
     "text": [
      "accuracy: 0.8496\n",
      "recall: 0.8496\n",
      "f1-score: 0.8352340034811641\n",
      "precision: 0.6970684039087948\n"
     ]
    }
   ],
   "source": [
    "print('accuracy:', accuracy_score(y_test, pred_DTC))\n",
    "print('recall:', recall_score(y_test, pred_DTC, average='weighted'))\n",
    "print('f1-score:', f1_score(y_test, pred_DTC, average='weighted'))\n",
    "print('precision:', precision_score(y_test, pred_DTC))"
   ]
  },
  {
   "cell_type": "code",
   "execution_count": 43,
   "id": "a29352e7",
   "metadata": {},
   "outputs": [],
   "source": [
    "MODEL.append('DecisionTreeClassifier')\n",
    "accuracy.append(accuracy_score(y_test,pred_DTC))\n",
    "recall.append( recall_score(y_test, pred_DTC,average='weighted'))\n",
    "f1score.append(f1_score(y_test, pred_DTC,average='weighted'))\n",
    "precision.append(precision_score(y_test,pred_DTC))"
   ]
  },
  {
   "cell_type": "markdown",
   "id": "722c8c4a",
   "metadata": {},
   "source": [
    "## RandomForestClassifier"
   ]
  },
  {
   "cell_type": "code",
   "execution_count": 44,
   "id": "8a862b63",
   "metadata": {},
   "outputs": [],
   "source": [
    "from sklearn.ensemble import RandomForestClassifier"
   ]
  },
  {
   "cell_type": "code",
   "execution_count": 45,
   "id": "3ed6d822",
   "metadata": {},
   "outputs": [
    {
     "data": {
      "text/plain": [
       "array([0, 0, 0, ..., 0, 0, 0], dtype=int64)"
      ]
     },
     "execution_count": 45,
     "metadata": {},
     "output_type": "execute_result"
    }
   ],
   "source": [
    "model=RandomForestClassifier()\n",
    "model.fit(X_train,y_train)\n",
    "y_RFC=model.predict(X_test)\n",
    "y_RFC"
   ]
  },
  {
   "cell_type": "code",
   "execution_count": 46,
   "id": "d51bf171",
   "metadata": {},
   "outputs": [
    {
     "name": "stdout",
     "output_type": "stream",
     "text": [
      "accuracy: 0.868\n",
      "recall: 0.868\n",
      "f1-score: 0.8543349176172369\n",
      "precision: 0.7830508474576271\n"
     ]
    }
   ],
   "source": [
    "print('accuracy:', accuracy_score(y_test, y_RFC))\n",
    "print('recall:', recall_score(y_test, y_RFC, average='weighted'))\n",
    "print('f1-score:', f1_score(y_test, y_RFC, average='weighted'))\n",
    "print('precision:', precision_score(y_test, y_RFC))"
   ]
  },
  {
   "cell_type": "code",
   "execution_count": 47,
   "id": "96450c52",
   "metadata": {},
   "outputs": [
    {
     "data": {
      "text/plain": [
       "0.868"
      ]
     },
     "execution_count": 47,
     "metadata": {},
     "output_type": "execute_result"
    }
   ],
   "source": [
    "acc_RFC=accuracy_score(y_test, y_RFC)\n",
    "acc_RFC"
   ]
  },
  {
   "cell_type": "code",
   "execution_count": 48,
   "id": "b55b27ef",
   "metadata": {},
   "outputs": [],
   "source": [
    "MODEL.append('RandomForestClassifier')\n",
    "accuracy.append(accuracy_score(y_test, y_RFC))\n",
    "recall.append( recall_score(y_test, y_RFC,average='weighted'))\n",
    "f1score.append(f1_score(y_test, y_RFC,average='weighted'))\n",
    "precision.append(precision_score(y_test,y_RFC))"
   ]
  },
  {
   "cell_type": "markdown",
   "id": "50a4d2c0",
   "metadata": {},
   "source": [
    "## Naive Bayes"
   ]
  },
  {
   "cell_type": "code",
   "execution_count": 49,
   "id": "def46ebf",
   "metadata": {},
   "outputs": [],
   "source": [
    "import sklearn.naive_bayes as nb\n",
    "from sklearn.naive_bayes import GaussianNB"
   ]
  },
  {
   "cell_type": "code",
   "execution_count": 50,
   "id": "d77422bc",
   "metadata": {},
   "outputs": [],
   "source": [
    "\n",
    "gnb = nb.GaussianNB()\n",
    "GNB=gnb.fit(X_train, y_train)\n",
    "y_nb = GNB.predict(X_test)"
   ]
  },
  {
   "cell_type": "code",
   "execution_count": 51,
   "id": "c289234e",
   "metadata": {},
   "outputs": [
    {
     "name": "stdout",
     "output_type": "stream",
     "text": [
      "accuracy: 0.1992\n",
      "recall: 0.1992\n",
      "f1-score: 0.06675661014419759\n",
      "precision: 0.19887955182072828\n"
     ]
    }
   ],
   "source": [
    "print('accuracy:', accuracy_score(y_test, y_nb))\n",
    "print('recall:', recall_score(y_test, y_nb, average='weighted'))\n",
    "print('f1-score:', f1_score(y_test, y_nb, average='weighted'))\n",
    "print('precision:', precision_score(y_test, y_nb))"
   ]
  },
  {
   "cell_type": "code",
   "execution_count": 52,
   "id": "f3b8d8a5",
   "metadata": {},
   "outputs": [
    {
     "data": {
      "text/plain": [
       "0.1992"
      ]
     },
     "execution_count": 52,
     "metadata": {},
     "output_type": "execute_result"
    }
   ],
   "source": [
    "acc_nb=accuracy_score(y_test, y_nb)\n",
    "acc_nb"
   ]
  },
  {
   "cell_type": "code",
   "execution_count": 53,
   "id": "8ac12dd2",
   "metadata": {},
   "outputs": [],
   "source": [
    "MODEL.append('Naive Bayes')\n",
    "accuracy.append(accuracy_score(y_test, y_nb))\n",
    "recall.append( recall_score(y_test, y_nb,average='weighted'))\n",
    "f1score.append(f1_score(y_test,y_nb,average='weighted'))\n",
    "precision.append(precision_score(y_test,y_nb))"
   ]
  },
  {
   "cell_type": "markdown",
   "id": "5272b5bd",
   "metadata": {},
   "source": [
    "# AdaBoostClassifier"
   ]
  },
  {
   "cell_type": "code",
   "execution_count": 54,
   "id": "465b7186",
   "metadata": {},
   "outputs": [
    {
     "name": "stdout",
     "output_type": "stream",
     "text": [
      "recall: 0.8556\n",
      "f1-score: 0.8433750113597976\n",
      "precision: 0.7098765432098766\n"
     ]
    }
   ],
   "source": [
    "from sklearn.ensemble import  AdaBoostClassifier\n",
    "model_ad = AdaBoostClassifier()\n",
    "\n",
    "model_ad.fit(X_train,y_train)\n",
    "pred = model_ad.predict(X_test)\n",
    "\n",
    "\n",
    "print('recall:', recall_score(y_test, pred, average='weighted'))\n",
    "print('f1-score:', f1_score(y_test, pred, average='weighted'))\n",
    "print('precision:', precision_score(y_test,pred))"
   ]
  },
  {
   "cell_type": "code",
   "execution_count": 55,
   "id": "f0b6241d",
   "metadata": {},
   "outputs": [],
   "source": [
    "MODEL.append('AdaBoostClassifier')\n",
    "accuracy.append(accuracy_score(y_test, pred))\n",
    "recall.append( recall_score(y_test, pred,average='weighted'))\n",
    "f1score.append(f1_score(y_test,pred,average='weighted'))\n",
    "precision.append(precision_score(y_test,pred))"
   ]
  },
  {
   "cell_type": "raw",
   "id": "b1734710",
   "metadata": {},
   "source": [
    "from sklearn.ensemble import AdaBoostClassifier\n",
    "abc = AdaBoostClassifier()\n",
    "\n",
    "abc.fit(X_train, y_train)\n",
    "y_test_predicted = abc.predict(X_test)\n",
    "\n",
    "print('accuracy = {}%'.format(round(abc.score(X_test, y_test) * 100, 2)))\n",
    "\n",
    "print('recall:', recall_score(y_test,y_test_predicted, average='weighted'))\n",
    "print('f1-score:', f1_score(y_test,y_test_predicted, average='weighted'))\n",
    "print('precision:', precision_score(y_test,y_test_predicted))"
   ]
  },
  {
   "cell_type": "raw",
   "id": "377bd617",
   "metadata": {},
   "source": [
    "from sklearn.model_selection import KFold, RepeatedStratifiedKFold, cross_val_score, cross_val_predict\n",
    "model1 =  AdaBoostClassifier()\n",
    "\n",
    "\n",
    "model1.fit(X_train, y_train)\n",
    "\n",
    "\n",
    "cv = KFold(n_splits=10)\n",
    "n_scores = cross_val_score(model1, X_train, y_train, scoring='accuracy', cv=cv, n_jobs=-1, error_score='raise')\n",
    "\n",
    "y_pred = cross_val_predict(model1, X_test,y_test, n_jobs=-1)\n",
    "\n",
    "#print('accuracy:', accuracy_score(y_test, y_pred))\n",
    "print('recall:', n_scores(y_test, y_pred, average='weighted'))\n",
    "print('f1-score:', n_scores(y_test, y_pred, average='weighted'))\n",
    "print('precision:', n_scores(y_test,y_pred))"
   ]
  },
  {
   "cell_type": "markdown",
   "id": "22ddc909",
   "metadata": {},
   "source": [
    "## Stacking"
   ]
  },
  {
   "cell_type": "code",
   "execution_count": 56,
   "id": "798d8813",
   "metadata": {},
   "outputs": [],
   "source": [
    "from sklearn.ensemble import StackingClassifier\n"
   ]
  },
  {
   "cell_type": "code",
   "execution_count": 57,
   "id": "71aa3a1c",
   "metadata": {},
   "outputs": [],
   "source": [
    "def stacking():\n",
    "\n",
    "    level0 = list()\n",
    "    level0.append(('ada', AdaBoostClassifier()))\n",
    "    level0.append(('cart', DecisionTreeClassifier()))\n",
    "    level0.append(('rfr', RandomForestClassifier()))\n",
    "\n",
    "    level1 = LogisticRegression()\n",
    "\n",
    "    model_s= StackingClassifier(estimators=level0, final_estimator=level1, cv=5)\n",
    "    return model_s"
   ]
  },
  {
   "cell_type": "raw",
   "id": "5de32e7c",
   "metadata": {},
   "source": [
    "model_s = stacking()\n",
    "\n",
    "cv = KFold(n_splits=10)\n",
    "n_scores = cross_val_score(model_s, X_train, y_train, scoring='accuracy', cv=cv, n_jobs=-1, error_score='raise')\n",
    "model_s.fit(X_train,y_train)\n",
    "\n",
    "y_pred = model_s.predict(X_test)\n",
    "\n",
    "\n",
    "print('recall:', n_scores(y_test, y_pred, average='weighted'))\n",
    "print('f1-score:', n_scores(y_test, y_pred, average='weighted'))\n",
    "print('precision:', n_scores(y_test,y_pred))"
   ]
  },
  {
   "cell_type": "code",
   "execution_count": 58,
   "id": "84859cef",
   "metadata": {},
   "outputs": [
    {
     "name": "stdout",
     "output_type": "stream",
     "text": [
      "recall: 0.8672\n",
      "f1-score: 0.8545151307333685\n",
      "precision: 0.7687296416938111\n"
     ]
    }
   ],
   "source": [
    "stack = stacking()\n",
    "\n",
    "stack.fit(X_train,y_train)\n",
    "\n",
    "y_pred = stack.predict(X_test)\n",
    "\n",
    "#print('accuracy = {}%'.format(round(stc.score(y_test, y_pred) * 100, 2)))\n",
    "print('recall:', recall_score(y_test, y_pred, average='weighted'))\n",
    "print('f1-score:', f1_score(y_test, y_pred, average='weighted'))\n",
    "print('precision:', precision_score(y_test,y_pred))\n"
   ]
  },
  {
   "cell_type": "code",
   "execution_count": 59,
   "id": "ae657ad1",
   "metadata": {},
   "outputs": [],
   "source": [
    "MODEL.append('Stacking')\n",
    "accuracy.append(accuracy_score(y_test, y_pred))\n",
    "recall.append( recall_score(y_test, y_pred,average='weighted'))\n",
    "f1score.append(f1_score(y_test,y_pred,average='weighted'))\n",
    "precision.append(precision_score(y_test,y_pred))"
   ]
  },
  {
   "cell_type": "markdown",
   "id": "d6bea26b",
   "metadata": {},
   "source": [
    "## Actual VS Prediction for RandomForestClassifier"
   ]
  },
  {
   "cell_type": "code",
   "execution_count": 60,
   "id": "51378695",
   "metadata": {},
   "outputs": [],
   "source": [
    "series_pred = pd.Series(y_RFC)"
   ]
  },
  {
   "cell_type": "code",
   "execution_count": 61,
   "id": "aaefc730",
   "metadata": {},
   "outputs": [
    {
     "data": {
      "text/html": [
       "<div>\n",
       "<style scoped>\n",
       "    .dataframe tbody tr th:only-of-type {\n",
       "        vertical-align: middle;\n",
       "    }\n",
       "\n",
       "    .dataframe tbody tr th {\n",
       "        vertical-align: top;\n",
       "    }\n",
       "\n",
       "    .dataframe thead th {\n",
       "        text-align: right;\n",
       "    }\n",
       "</style>\n",
       "<table border=\"1\" class=\"dataframe\">\n",
       "  <thead>\n",
       "    <tr style=\"text-align: right;\">\n",
       "      <th></th>\n",
       "      <th>prediction</th>\n",
       "      <th>Exited</th>\n",
       "    </tr>\n",
       "  </thead>\n",
       "  <tbody>\n",
       "    <tr>\n",
       "      <th>0</th>\n",
       "      <td>0</td>\n",
       "      <td>1</td>\n",
       "    </tr>\n",
       "    <tr>\n",
       "      <th>3</th>\n",
       "      <td>0</td>\n",
       "      <td>0</td>\n",
       "    </tr>\n",
       "    <tr>\n",
       "      <th>8</th>\n",
       "      <td>0</td>\n",
       "      <td>0</td>\n",
       "    </tr>\n",
       "    <tr>\n",
       "      <th>10</th>\n",
       "      <td>1</td>\n",
       "      <td>0</td>\n",
       "    </tr>\n",
       "    <tr>\n",
       "      <th>12</th>\n",
       "      <td>1</td>\n",
       "      <td>0</td>\n",
       "    </tr>\n",
       "    <tr>\n",
       "      <th>14</th>\n",
       "      <td>0</td>\n",
       "      <td>0</td>\n",
       "    </tr>\n",
       "    <tr>\n",
       "      <th>17</th>\n",
       "      <td>0</td>\n",
       "      <td>0</td>\n",
       "    </tr>\n",
       "    <tr>\n",
       "      <th>19</th>\n",
       "      <td>0</td>\n",
       "      <td>0</td>\n",
       "    </tr>\n",
       "    <tr>\n",
       "      <th>20</th>\n",
       "      <td>0</td>\n",
       "      <td>0</td>\n",
       "    </tr>\n",
       "    <tr>\n",
       "      <th>23</th>\n",
       "      <td>0</td>\n",
       "      <td>0</td>\n",
       "    </tr>\n",
       "  </tbody>\n",
       "</table>\n",
       "</div>"
      ],
      "text/plain": [
       "    prediction  Exited\n",
       "0            0       1\n",
       "3            0       0\n",
       "8            0       0\n",
       "10           1       0\n",
       "12           1       0\n",
       "14           0       0\n",
       "17           0       0\n",
       "19           0       0\n",
       "20           0       0\n",
       "23           0       0"
      ]
     },
     "execution_count": 61,
     "metadata": {},
     "output_type": "execute_result"
    }
   ],
   "source": [
    "df_result = pd.DataFrame(data=series_pred, columns=['prediction'])\n",
    "df = pd.merge(df_result, y_test, left_index=True, right_index=True)\n",
    "df.head(10)"
   ]
  },
  {
   "cell_type": "markdown",
   "id": "3eb5aa6d",
   "metadata": {},
   "source": [
    "## Actual VS Prediction for Stacking"
   ]
  },
  {
   "cell_type": "code",
   "execution_count": 84,
   "id": "f37405cc",
   "metadata": {},
   "outputs": [],
   "source": [
    "series_pred1 = pd.Series(y_pred)"
   ]
  },
  {
   "cell_type": "code",
   "execution_count": 85,
   "id": "0ece53d7",
   "metadata": {},
   "outputs": [
    {
     "data": {
      "text/html": [
       "<div>\n",
       "<style scoped>\n",
       "    .dataframe tbody tr th:only-of-type {\n",
       "        vertical-align: middle;\n",
       "    }\n",
       "\n",
       "    .dataframe tbody tr th {\n",
       "        vertical-align: top;\n",
       "    }\n",
       "\n",
       "    .dataframe thead th {\n",
       "        text-align: right;\n",
       "    }\n",
       "</style>\n",
       "<table border=\"1\" class=\"dataframe\">\n",
       "  <thead>\n",
       "    <tr style=\"text-align: right;\">\n",
       "      <th></th>\n",
       "      <th>prediction</th>\n",
       "      <th>Exited</th>\n",
       "    </tr>\n",
       "  </thead>\n",
       "  <tbody>\n",
       "    <tr>\n",
       "      <th>0</th>\n",
       "      <td>0</td>\n",
       "      <td>1</td>\n",
       "    </tr>\n",
       "    <tr>\n",
       "      <th>3</th>\n",
       "      <td>0</td>\n",
       "      <td>0</td>\n",
       "    </tr>\n",
       "    <tr>\n",
       "      <th>8</th>\n",
       "      <td>0</td>\n",
       "      <td>0</td>\n",
       "    </tr>\n",
       "    <tr>\n",
       "      <th>10</th>\n",
       "      <td>1</td>\n",
       "      <td>0</td>\n",
       "    </tr>\n",
       "    <tr>\n",
       "      <th>12</th>\n",
       "      <td>1</td>\n",
       "      <td>0</td>\n",
       "    </tr>\n",
       "    <tr>\n",
       "      <th>14</th>\n",
       "      <td>0</td>\n",
       "      <td>0</td>\n",
       "    </tr>\n",
       "    <tr>\n",
       "      <th>17</th>\n",
       "      <td>0</td>\n",
       "      <td>0</td>\n",
       "    </tr>\n",
       "    <tr>\n",
       "      <th>19</th>\n",
       "      <td>0</td>\n",
       "      <td>0</td>\n",
       "    </tr>\n",
       "    <tr>\n",
       "      <th>20</th>\n",
       "      <td>0</td>\n",
       "      <td>0</td>\n",
       "    </tr>\n",
       "    <tr>\n",
       "      <th>23</th>\n",
       "      <td>0</td>\n",
       "      <td>0</td>\n",
       "    </tr>\n",
       "  </tbody>\n",
       "</table>\n",
       "</div>"
      ],
      "text/plain": [
       "    prediction  Exited\n",
       "0            0       1\n",
       "3            0       0\n",
       "8            0       0\n",
       "10           1       0\n",
       "12           1       0\n",
       "14           0       0\n",
       "17           0       0\n",
       "19           0       0\n",
       "20           0       0\n",
       "23           0       0"
      ]
     },
     "execution_count": 85,
     "metadata": {},
     "output_type": "execute_result"
    }
   ],
   "source": [
    "df_result1 = pd.DataFrame(data=series_pred1, columns=['prediction'])\n",
    "df1 = pd.merge(df_result1, y_test, left_index=True, right_index=True)\n",
    "df1.head(10)"
   ]
  },
  {
   "cell_type": "code",
   "execution_count": 87,
   "id": "e05c6863",
   "metadata": {},
   "outputs": [
    {
     "data": {
      "text/plain": [
       "prediction  Exited\n",
       "0           0         0.709627\n",
       "            1         0.170807\n",
       "1           0         0.096273\n",
       "            1         0.023292\n",
       "dtype: float64"
      ]
     },
     "execution_count": 87,
     "metadata": {},
     "output_type": "execute_result"
    }
   ],
   "source": [
    "df1.value_counts(normalize=True)"
   ]
  },
  {
   "cell_type": "code",
   "execution_count": 65,
   "id": "aafecf39",
   "metadata": {},
   "outputs": [
    {
     "data": {
      "text/html": [
       "<div>\n",
       "<style scoped>\n",
       "    .dataframe tbody tr th:only-of-type {\n",
       "        vertical-align: middle;\n",
       "    }\n",
       "\n",
       "    .dataframe tbody tr th {\n",
       "        vertical-align: top;\n",
       "    }\n",
       "\n",
       "    .dataframe thead th {\n",
       "        text-align: right;\n",
       "    }\n",
       "</style>\n",
       "<table border=\"1\" class=\"dataframe\">\n",
       "  <thead>\n",
       "    <tr style=\"text-align: right;\">\n",
       "      <th></th>\n",
       "      <th>Model</th>\n",
       "      <th>accuracy</th>\n",
       "      <th>recall</th>\n",
       "      <th>f1score</th>\n",
       "      <th>precision</th>\n",
       "    </tr>\n",
       "  </thead>\n",
       "  <tbody>\n",
       "    <tr>\n",
       "      <th>0</th>\n",
       "      <td>Logistic Regression</td>\n",
       "      <td>0.8076</td>\n",
       "      <td>0.8076</td>\n",
       "      <td>0.768470</td>\n",
       "      <td>0.545977</td>\n",
       "    </tr>\n",
       "    <tr>\n",
       "      <th>1</th>\n",
       "      <td>KNeighborsClassifier</td>\n",
       "      <td>0.8176</td>\n",
       "      <td>0.8176</td>\n",
       "      <td>0.805522</td>\n",
       "      <td>0.557746</td>\n",
       "    </tr>\n",
       "    <tr>\n",
       "      <th>2</th>\n",
       "      <td>DecisionTreeClassifier</td>\n",
       "      <td>0.8496</td>\n",
       "      <td>0.8496</td>\n",
       "      <td>0.835234</td>\n",
       "      <td>0.697068</td>\n",
       "    </tr>\n",
       "    <tr>\n",
       "      <th>3</th>\n",
       "      <td>RandomForestClassifier</td>\n",
       "      <td>0.8680</td>\n",
       "      <td>0.8680</td>\n",
       "      <td>0.854335</td>\n",
       "      <td>0.783051</td>\n",
       "    </tr>\n",
       "    <tr>\n",
       "      <th>4</th>\n",
       "      <td>Naive Bayes</td>\n",
       "      <td>0.1992</td>\n",
       "      <td>0.1992</td>\n",
       "      <td>0.066757</td>\n",
       "      <td>0.198880</td>\n",
       "    </tr>\n",
       "    <tr>\n",
       "      <th>5</th>\n",
       "      <td>AdaBoostClassifier</td>\n",
       "      <td>0.8556</td>\n",
       "      <td>0.8556</td>\n",
       "      <td>0.843375</td>\n",
       "      <td>0.709877</td>\n",
       "    </tr>\n",
       "    <tr>\n",
       "      <th>6</th>\n",
       "      <td>Stacking</td>\n",
       "      <td>0.8672</td>\n",
       "      <td>0.8672</td>\n",
       "      <td>0.854515</td>\n",
       "      <td>0.768730</td>\n",
       "    </tr>\n",
       "  </tbody>\n",
       "</table>\n",
       "</div>"
      ],
      "text/plain": [
       "                    Model  accuracy  recall   f1score  precision\n",
       "0     Logistic Regression    0.8076  0.8076  0.768470   0.545977\n",
       "1    KNeighborsClassifier    0.8176  0.8176  0.805522   0.557746\n",
       "2  DecisionTreeClassifier    0.8496  0.8496  0.835234   0.697068\n",
       "3  RandomForestClassifier    0.8680  0.8680  0.854335   0.783051\n",
       "4             Naive Bayes    0.1992  0.1992  0.066757   0.198880\n",
       "5      AdaBoostClassifier    0.8556  0.8556  0.843375   0.709877\n",
       "6                Stacking    0.8672  0.8672  0.854515   0.768730"
      ]
     },
     "execution_count": 65,
     "metadata": {},
     "output_type": "execute_result"
    }
   ],
   "source": [
    "pd.DataFrame({'Model' : MODEL,'accuracy':accuracy,'recall':recall,'f1score':f1score,'precision':precision})\n"
   ]
  },
  {
   "cell_type": "code",
   "execution_count": null,
   "id": "e9d75bde",
   "metadata": {},
   "outputs": [],
   "source": []
  },
  {
   "cell_type": "markdown",
   "id": "d7121ad3",
   "metadata": {},
   "source": [
    "# AUC curve for our best Model--->Stacking"
   ]
  },
  {
   "cell_type": "code",
   "execution_count": 66,
   "id": "129cb144",
   "metadata": {},
   "outputs": [],
   "source": [
    "from sklearn.metrics import roc_curve, auc\n",
    "from sklearn.model_selection import cross_val_score\n"
   ]
  },
  {
   "cell_type": "code",
   "execution_count": 67,
   "id": "f18f7eef",
   "metadata": {},
   "outputs": [
    {
     "data": {
      "image/png": "[encoded data removed]",
      "text/plain": [
       "<Figure size 720x504 with 1 Axes>"
      ]
     },
     "metadata": {
      "needs_background": "light"
     },
     "output_type": "display_data"
    }
   ],
   "source": [
    "fpr, tpr, threshold = roc_curve(y_test,stack.predict_proba(X_test)[:,1])\n",
    "area_under_curve = auc(fpr, tpr)\n",
    "\n",
    "plt.figure(figsize = (10,7))\n",
    "plt.title('Receptive Operative Characteristic Curve for stacking')\n",
    "plt.plot(fpr,tpr,'b',label = 'AUC = ' + str(area_under_curve), c = 'k')\n",
    "plt.legend(loc = 'lower right')\n",
    "plt.plot([0,1],[0,1],'r',linestyle='dashed')\n",
    "plt.xlim([0,1])\n",
    "plt.ylim([0,1])\n",
    "plt.xlabel('False Positive Rate')\n",
    "plt.ylabel('True Positive Rate')\n",
    "plt.show()"
   ]
  },
  {
   "cell_type": "markdown",
   "id": "a99971ae",
   "metadata": {},
   "source": [
    "### AUC of the Stacking is 0.857\n",
    "   ==> it's a good model"
   ]
  },
  {
   "cell_type": "code",
   "execution_count": 68,
   "id": "0335219b",
   "metadata": {
    "scrolled": true
   },
   "outputs": [
    {
     "name": "stdout",
     "output_type": "stream",
     "text": [
      "   CrossValMeans  CrossValerrors             Algorithm\n",
      "0       0.809333        0.007242    LogisticRegression\n",
      "1       0.858933        0.004079          RandomForest\n",
      "2       0.815867        0.007881           KNeighboors\n",
      "3       0.794667        0.000000                   SVC\n",
      "4       0.788400        0.007025          DecisionTree\n",
      "5       0.205333        0.000422             NaiveByes\n",
      "6       0.851600        0.010529  Ada Boost Classifier\n",
      "7       0.855333        0.005164              Stacking\n"
     ]
    },
    {
     "data": {
      "image/png": "[encoded data removed]",
      "text/plain": [
       "<Figure size 432x288 with 1 Axes>"
      ]
     },
     "metadata": {
      "needs_background": "light"
     },
     "output_type": "display_data"
    }
   ],
   "source": [
    "# Cross validate model with Kfold stratified cross validation\n",
    "kfold = StratifiedKFold(n_splits=5)\n",
    "# Modeling step Test differents algorithms \n",
    "classifiers = []\n",
    "classifiers.append(LogisticRegression())\n",
    "classifiers.append(RandomForestClassifier())\n",
    "classifiers.append(KNeighborsClassifier())\n",
    "classifiers.append(SVC())\n",
    "classifiers.append(DecisionTreeClassifier())\n",
    "classifiers.append(nb.GaussianNB())\n",
    "classifiers.append(AdaBoostClassifier())\n",
    "classifiers.append(stacking())\n",
    "cv_results = []\n",
    "for classifier in classifiers :\n",
    "    cv_results.append(cross_val_score(classifier, X_train, y = y_train, scoring = \"accuracy\", cv = kfold, n_jobs=4))\n",
    "cv_means = []\n",
    "cv_std = []\n",
    "for cv_result in cv_results:\n",
    "    cv_means.append(cv_result.mean())\n",
    "    cv_std.append(cv_result.std())\n",
    "cv_res = pd.DataFrame({\"CrossValMeans\":cv_means,\"CrossValerrors\": cv_std,\"Algorithm\":[\"LogisticRegression\",\"RandomForest\",\"KNeighboors\",\"SVC\",\"DecisionTree\",\"NaiveByes\",\"Ada Boost Classifier\",\"Stacking\"]})\n",
    "g = sns.barplot(\"CrossValMeans\",\"Algorithm\",data = cv_res, palette=\"Set2\",orient = \"h\",**{'xerr':cv_std})\n",
    "g.set_xlabel(\"Mean Accuracy\")\n",
    "g = g.set_title(\"Cross validation scores\")\n",
    "print(cv_res)"
   ]
  },
  {
   "cell_type": "code",
   "execution_count": 69,
   "id": "45f967f9",
   "metadata": {},
   "outputs": [
    {
     "data": {
      "text/html": [
       "<div>\n",
       "<style scoped>\n",
       "    .dataframe tbody tr th:only-of-type {\n",
       "        vertical-align: middle;\n",
       "    }\n",
       "\n",
       "    .dataframe tbody tr th {\n",
       "        vertical-align: top;\n",
       "    }\n",
       "\n",
       "    .dataframe thead th {\n",
       "        text-align: right;\n",
       "    }\n",
       "</style>\n",
       "<table border=\"1\" class=\"dataframe\">\n",
       "  <thead>\n",
       "    <tr style=\"text-align: right;\">\n",
       "      <th></th>\n",
       "      <th>CrossValMeans</th>\n",
       "      <th>CrossValerrors</th>\n",
       "      <th>Algorithm</th>\n",
       "    </tr>\n",
       "  </thead>\n",
       "  <tbody>\n",
       "    <tr>\n",
       "      <th>0</th>\n",
       "      <td>0.809333</td>\n",
       "      <td>0.007242</td>\n",
       "      <td>LogisticRegression</td>\n",
       "    </tr>\n",
       "    <tr>\n",
       "      <th>1</th>\n",
       "      <td>0.858933</td>\n",
       "      <td>0.004079</td>\n",
       "      <td>RandomForest</td>\n",
       "    </tr>\n",
       "    <tr>\n",
       "      <th>2</th>\n",
       "      <td>0.815867</td>\n",
       "      <td>0.007881</td>\n",
       "      <td>KNeighboors</td>\n",
       "    </tr>\n",
       "    <tr>\n",
       "      <th>3</th>\n",
       "      <td>0.794667</td>\n",
       "      <td>0.000000</td>\n",
       "      <td>SVC</td>\n",
       "    </tr>\n",
       "    <tr>\n",
       "      <th>4</th>\n",
       "      <td>0.788400</td>\n",
       "      <td>0.007025</td>\n",
       "      <td>DecisionTree</td>\n",
       "    </tr>\n",
       "    <tr>\n",
       "      <th>5</th>\n",
       "      <td>0.205333</td>\n",
       "      <td>0.000422</td>\n",
       "      <td>NaiveByes</td>\n",
       "    </tr>\n",
       "    <tr>\n",
       "      <th>6</th>\n",
       "      <td>0.851600</td>\n",
       "      <td>0.010529</td>\n",
       "      <td>Ada Boost Classifier</td>\n",
       "    </tr>\n",
       "    <tr>\n",
       "      <th>7</th>\n",
       "      <td>0.855333</td>\n",
       "      <td>0.005164</td>\n",
       "      <td>Stacking</td>\n",
       "    </tr>\n",
       "  </tbody>\n",
       "</table>\n",
       "</div>"
      ],
      "text/plain": [
       "   CrossValMeans  CrossValerrors             Algorithm\n",
       "0       0.809333        0.007242    LogisticRegression\n",
       "1       0.858933        0.004079          RandomForest\n",
       "2       0.815867        0.007881           KNeighboors\n",
       "3       0.794667        0.000000                   SVC\n",
       "4       0.788400        0.007025          DecisionTree\n",
       "5       0.205333        0.000422             NaiveByes\n",
       "6       0.851600        0.010529  Ada Boost Classifier\n",
       "7       0.855333        0.005164              Stacking"
      ]
     },
     "execution_count": 69,
     "metadata": {},
     "output_type": "execute_result"
    }
   ],
   "source": [
    "cv_res"
   ]
  },
  {
   "cell_type": "markdown",
   "id": "b85d8e0c",
   "metadata": {},
   "source": [
    "# Model Summary for Logistic Regression"
   ]
  },
  {
   "cell_type": "code",
   "execution_count": 70,
   "id": "b51a88e0",
   "metadata": {},
   "outputs": [
    {
     "data": {
      "text/html": [
       "<table class=\"simpletable\">\n",
       "<caption>OLS Regression Results</caption>\n",
       "<tr>\n",
       "  <th>Dep. Variable:</th>         <td>Exited</td>      <th>  R-squared:         </th> <td>   0.151</td>\n",
       "</tr>\n",
       "<tr>\n",
       "  <th>Model:</th>                   <td>OLS</td>       <th>  Adj. R-squared:    </th> <td>   0.150</td>\n",
       "</tr>\n",
       "<tr>\n",
       "  <th>Method:</th>             <td>Least Squares</td>  <th>  F-statistic:       </th> <td>   93.65</td>\n",
       "</tr>\n",
       "<tr>\n",
       "  <th>Date:</th>             <td>Thu, 12 May 2022</td> <th>  Prob (F-statistic):</th>  <td>  0.00</td> \n",
       "</tr>\n",
       "<tr>\n",
       "  <th>Time:</th>                 <td>01:28:03</td>     <th>  Log-Likelihood:    </th> <td> -4274.6</td>\n",
       "</tr>\n",
       "<tr>\n",
       "  <th>No. Observations:</th>      <td> 10000</td>      <th>  AIC:               </th> <td>   8589.</td>\n",
       "</tr>\n",
       "<tr>\n",
       "  <th>Df Residuals:</th>          <td>  9980</td>      <th>  BIC:               </th> <td>   8733.</td>\n",
       "</tr>\n",
       "<tr>\n",
       "  <th>Df Model:</th>              <td>    19</td>      <th>                     </th>     <td> </td>   \n",
       "</tr>\n",
       "<tr>\n",
       "  <th>Covariance Type:</th>      <td>nonrobust</td>    <th>                     </th>     <td> </td>   \n",
       "</tr>\n",
       "</table>\n",
       "<table class=\"simpletable\">\n",
       "<tr>\n",
       "          <td></td>             <th>coef</th>     <th>std err</th>      <th>t</th>      <th>P>|t|</th>  <th>[0.025</th>    <th>0.975]</th>  \n",
       "</tr>\n",
       "<tr>\n",
       "  <th>CreditScore</th>       <td>   -0.0472</td> <td>    0.019</td> <td>   -2.452</td> <td> 0.014</td> <td>   -0.085</td> <td>   -0.009</td>\n",
       "</tr>\n",
       "<tr>\n",
       "  <th>Age</th>               <td>    0.0111</td> <td>    0.000</td> <td>   31.172</td> <td> 0.000</td> <td>    0.010</td> <td>    0.012</td>\n",
       "</tr>\n",
       "<tr>\n",
       "  <th>Tenure</th>            <td>   -0.0019</td> <td>    0.001</td> <td>   -1.515</td> <td> 0.130</td> <td>   -0.004</td> <td>    0.001</td>\n",
       "</tr>\n",
       "<tr>\n",
       "  <th>Balance</th>           <td>    0.0788</td> <td>    0.017</td> <td>    4.561</td> <td> 0.000</td> <td>    0.045</td> <td>    0.113</td>\n",
       "</tr>\n",
       "<tr>\n",
       "  <th>NumOfProducts</th>     <td>   -0.0159</td> <td>    0.007</td> <td>   -2.343</td> <td> 0.019</td> <td>   -0.029</td> <td>   -0.003</td>\n",
       "</tr>\n",
       "<tr>\n",
       "  <th>HasCrCard</th>         <td>   -0.0048</td> <td>    0.008</td> <td>   -0.584</td> <td> 0.559</td> <td>   -0.021</td> <td>    0.011</td>\n",
       "</tr>\n",
       "<tr>\n",
       "  <th>IsActiveMember</th>    <td>   -0.1413</td> <td>    0.007</td> <td>  -18.909</td> <td> 0.000</td> <td>   -0.156</td> <td>   -0.127</td>\n",
       "</tr>\n",
       "<tr>\n",
       "  <th>EstimatedSalary</th>   <td>    0.0137</td> <td>    0.013</td> <td>    1.057</td> <td> 0.291</td> <td>   -0.012</td> <td>    0.039</td>\n",
       "</tr>\n",
       "<tr>\n",
       "  <th>Geography_France</th>  <td>   -0.0207</td> <td>    0.059</td> <td>   -0.350</td> <td> 0.726</td> <td>   -0.136</td> <td>    0.095</td>\n",
       "</tr>\n",
       "<tr>\n",
       "  <th>Geography_GERMANY</th> <td>   -0.1593</td> <td>    0.347</td> <td>   -0.459</td> <td> 0.646</td> <td>   -0.839</td> <td>    0.520</td>\n",
       "</tr>\n",
       "<tr>\n",
       "  <th>Geography_Germany</th> <td>    0.1059</td> <td>    0.059</td> <td>    1.784</td> <td> 0.075</td> <td>   -0.010</td> <td>    0.222</td>\n",
       "</tr>\n",
       "<tr>\n",
       "  <th>Geography_Spain</th>   <td>   -0.0163</td> <td>    0.059</td> <td>   -0.276</td> <td> 0.783</td> <td>   -0.132</td> <td>    0.100</td>\n",
       "</tr>\n",
       "<tr>\n",
       "  <th>Geography_espanio</th> <td>    0.0589</td> <td>    0.151</td> <td>    0.389</td> <td> 0.697</td> <td>   -0.238</td> <td>    0.356</td>\n",
       "</tr>\n",
       "<tr>\n",
       "  <th>Geography_fra</th>     <td>    0.0252</td> <td>    0.152</td> <td>    0.167</td> <td> 0.868</td> <td>   -0.272</td> <td>    0.322</td>\n",
       "</tr>\n",
       "<tr>\n",
       "  <th>Geography_france</th>  <td>    0.1551</td> <td>    0.142</td> <td>    1.093</td> <td> 0.275</td> <td>   -0.123</td> <td>    0.433</td>\n",
       "</tr>\n",
       "<tr>\n",
       "  <th>Geography_ger</th>     <td>    0.2903</td> <td>    0.181</td> <td>    1.606</td> <td> 0.108</td> <td>   -0.064</td> <td>    0.645</td>\n",
       "</tr>\n",
       "<tr>\n",
       "  <th>Geography_germany</th> <td>   -0.4040</td> <td>    0.347</td> <td>   -1.165</td> <td> 0.244</td> <td>   -1.084</td> <td>    0.276</td>\n",
       "</tr>\n",
       "<tr>\n",
       "  <th>Geography_gernamy</th> <td>   -0.0742</td> <td>    0.347</td> <td>   -0.214</td> <td> 0.831</td> <td>   -0.754</td> <td>    0.606</td>\n",
       "</tr>\n",
       "<tr>\n",
       "  <th>Geography_spain</th>   <td>   -0.2207</td> <td>    0.249</td> <td>   -0.888</td> <td> 0.375</td> <td>   -0.708</td> <td>    0.267</td>\n",
       "</tr>\n",
       "<tr>\n",
       "  <th>Gender_Female</th>     <td>   -0.0926</td> <td>    0.063</td> <td>   -1.477</td> <td> 0.140</td> <td>   -0.215</td> <td>    0.030</td>\n",
       "</tr>\n",
       "<tr>\n",
       "  <th>Gender_Male</th>       <td>   -0.1672</td> <td>    0.063</td> <td>   -2.668</td> <td> 0.008</td> <td>   -0.290</td> <td>   -0.044</td>\n",
       "</tr>\n",
       "</table>\n",
       "<table class=\"simpletable\">\n",
       "<tr>\n",
       "  <th>Omnibus:</th>       <td>1475.958</td> <th>  Durbin-Watson:     </th> <td>   1.992</td>\n",
       "</tr>\n",
       "<tr>\n",
       "  <th>Prob(Omnibus):</th>  <td> 0.000</td>  <th>  Jarque-Bera (JB):  </th> <td>2234.955</td>\n",
       "</tr>\n",
       "<tr>\n",
       "  <th>Skew:</th>           <td> 1.153</td>  <th>  Prob(JB):          </th> <td>    0.00</td>\n",
       "</tr>\n",
       "<tr>\n",
       "  <th>Kurtosis:</th>       <td> 3.215</td>  <th>  Cond. No.          </th> <td>4.81e+17</td>\n",
       "</tr>\n",
       "</table><br/><br/>Notes:<br/>[1] Standard Errors assume that the covariance matrix of the errors is correctly specified.<br/>[2] The smallest eigenvalue is 7.14e-29. This might indicate that there are<br/>strong multicollinearity problems or that the design matrix is singular."
      ],
      "text/plain": [
       "<class 'statsmodels.iolib.summary.Summary'>\n",
       "\"\"\"\n",
       "                            OLS Regression Results                            \n",
       "==============================================================================\n",
       "Dep. Variable:                 Exited   R-squared:                       0.151\n",
       "Model:                            OLS   Adj. R-squared:                  0.150\n",
       "Method:                 Least Squares   F-statistic:                     93.65\n",
       "Date:                Thu, 12 May 2022   Prob (F-statistic):               0.00\n",
       "Time:                        01:28:03   Log-Likelihood:                -4274.6\n",
       "No. Observations:               10000   AIC:                             8589.\n",
       "Df Residuals:                    9980   BIC:                             8733.\n",
       "Df Model:                          19                                         \n",
       "Covariance Type:            nonrobust                                         \n",
       "=====================================================================================\n",
       "                        coef    std err          t      P>|t|      [0.025      0.975]\n",
       "-------------------------------------------------------------------------------------\n",
       "CreditScore          -0.0472      0.019     -2.452      0.014      -0.085      -0.009\n",
       "Age                   0.0111      0.000     31.172      0.000       0.010       0.012\n",
       "Tenure               -0.0019      0.001     -1.515      0.130      -0.004       0.001\n",
       "Balance               0.0788      0.017      4.561      0.000       0.045       0.113\n",
       "NumOfProducts        -0.0159      0.007     -2.343      0.019      -0.029      -0.003\n",
       "HasCrCard            -0.0048      0.008     -0.584      0.559      -0.021       0.011\n",
       "IsActiveMember       -0.1413      0.007    -18.909      0.000      -0.156      -0.127\n",
       "EstimatedSalary       0.0137      0.013      1.057      0.291      -0.012       0.039\n",
       "Geography_France     -0.0207      0.059     -0.350      0.726      -0.136       0.095\n",
       "Geography_GERMANY    -0.1593      0.347     -0.459      0.646      -0.839       0.520\n",
       "Geography_Germany     0.1059      0.059      1.784      0.075      -0.010       0.222\n",
       "Geography_Spain      -0.0163      0.059     -0.276      0.783      -0.132       0.100\n",
       "Geography_espanio     0.0589      0.151      0.389      0.697      -0.238       0.356\n",
       "Geography_fra         0.0252      0.152      0.167      0.868      -0.272       0.322\n",
       "Geography_france      0.1551      0.142      1.093      0.275      -0.123       0.433\n",
       "Geography_ger         0.2903      0.181      1.606      0.108      -0.064       0.645\n",
       "Geography_germany    -0.4040      0.347     -1.165      0.244      -1.084       0.276\n",
       "Geography_gernamy    -0.0742      0.347     -0.214      0.831      -0.754       0.606\n",
       "Geography_spain      -0.2207      0.249     -0.888      0.375      -0.708       0.267\n",
       "Gender_Female        -0.0926      0.063     -1.477      0.140      -0.215       0.030\n",
       "Gender_Male          -0.1672      0.063     -2.668      0.008      -0.290      -0.044\n",
       "==============================================================================\n",
       "Omnibus:                     1475.958   Durbin-Watson:                   1.992\n",
       "Prob(Omnibus):                  0.000   Jarque-Bera (JB):             2234.955\n",
       "Skew:                           1.153   Prob(JB):                         0.00\n",
       "Kurtosis:                       3.215   Cond. No.                     4.81e+17\n",
       "==============================================================================\n",
       "\n",
       "Notes:\n",
       "[1] Standard Errors assume that the covariance matrix of the errors is correctly specified.\n",
       "[2] The smallest eigenvalue is 7.14e-29. This might indicate that there are\n",
       "strong multicollinearity problems or that the design matrix is singular.\n",
       "\"\"\""
      ]
     },
     "execution_count": 70,
     "metadata": {},
     "output_type": "execute_result"
    }
   ],
   "source": [
    "import statsmodels.api as sm\n",
    "model = sm.OLS(y,x).fit()\n",
    "model.summary() "
   ]
  },
  {
   "cell_type": "code",
   "execution_count": 71,
   "id": "02e33163",
   "metadata": {},
   "outputs": [],
   "source": [
    "## User defined function for accuracy report\n",
    "\n",
    "def confusionMatrix(df):\n",
    "    #accuracy score\n",
    "    print(\"Accuracy Score = {}\".format(accuracy_score(df.actual,df.predicted)))\n",
    "    print(\"\\n\")\n",
    "    #Confusion Matrix\n",
    "    print(\"Confusion Matrix\")\n",
    "    print(pd.crosstab(df.actual,df.predicted,margins=True))\n",
    "    print(\"\\n\")\n",
    "    #Classification Report\n",
    "    print(\"Calssification Report\\n\",classification_report(df.actual, df.predicted))\n",
    "    \n",
    "    # ROC /AUC\n",
    "    fpr,tpr,_=metrics.roc_curve(df.actual,df.predicted)\n",
    "    area_under_curve=metrics.auc(fpr,tpr)\n",
    "    \n",
    "    #plot the ROC\n",
    "    \n",
    "    plt.title(\"Receptive Characterstic Curve\")\n",
    "    plt.plot(fpr,tpr,'b',label=\"AUC=\"+str(area_under_curve))\n",
    "    plt.legend(loc='lower right')\n",
    "    plt.plot([0,1],[0,1],'r--') #dummy model\n",
    "    plt.xlim([0,1])\n",
    "    plt.ylim([0,1])\n",
    "    plt.xlabel(\"False Positive Rate\")\n",
    "    plt.ylabel(\"True positive Rate\")\n",
    "    plt.show()"
   ]
  },
  {
   "cell_type": "code",
   "execution_count": 72,
   "id": "ebeedd66",
   "metadata": {},
   "outputs": [
    {
     "name": "stdout",
     "output_type": "stream",
     "text": [
      "Accuracy Score = 0.868\n",
      "\n",
      "\n",
      "Confusion Matrix\n",
      "predicted     0    1   All\n",
      "actual                    \n",
      "0          1939   64  2003\n",
      "1           266  231   497\n",
      "All        2205  295  2500\n",
      "\n",
      "\n",
      "Calssification Report\n",
      "               precision    recall  f1-score   support\n",
      "\n",
      "           0       0.88      0.97      0.92      2003\n",
      "           1       0.78      0.46      0.58       497\n",
      "\n",
      "    accuracy                           0.87      2500\n",
      "   macro avg       0.83      0.72      0.75      2500\n",
      "weighted avg       0.86      0.87      0.85      2500\n",
      "\n"
     ]
    },
    {
     "data": {
      "image/png": "[encoded data removed]",
      "text/plain": [
       "<Figure size 432x288 with 1 Axes>"
      ]
     },
     "metadata": {
      "needs_background": "light"
     },
     "output_type": "display_data"
    },
    {
     "name": "stdout",
     "output_type": "stream",
     "text": [
      "None\n"
     ]
    }
   ],
   "source": [
    "## Actual vs Predicted\n",
    "from sklearn.metrics import confusion_matrix\n",
    "df=pd.DataFrame({'actual':y_test,'predicted':y_RFC.flatten(),'True/false':y_test==y_RFC})\n",
    "\n",
    "df\n",
    "\n",
    "print(confusionMatrix(df))"
   ]
  },
  {
   "cell_type": "code",
   "execution_count": 73,
   "id": "aa55e3b3",
   "metadata": {},
   "outputs": [
    {
     "name": "stdout",
     "output_type": "stream",
     "text": [
      "Accuracy Score = 0.8672\n",
      "\n",
      "\n",
      "Confusion Matrix\n",
      "predicted     0    1   All\n",
      "actual                    \n",
      "0          1932   71  2003\n",
      "1           261  236   497\n",
      "All        2193  307  2500\n",
      "\n",
      "\n",
      "Calssification Report\n",
      "               precision    recall  f1-score   support\n",
      "\n",
      "           0       0.88      0.96      0.92      2003\n",
      "           1       0.77      0.47      0.59       497\n",
      "\n",
      "    accuracy                           0.87      2500\n",
      "   macro avg       0.82      0.72      0.75      2500\n",
      "weighted avg       0.86      0.87      0.85      2500\n",
      "\n"
     ]
    },
    {
     "data": {
      "image/png": "[encoded data removed]",
      "text/plain": [
       "<Figure size 432x288 with 1 Axes>"
      ]
     },
     "metadata": {
      "needs_background": "light"
     },
     "output_type": "display_data"
    },
    {
     "name": "stdout",
     "output_type": "stream",
     "text": [
      "None\n"
     ]
    }
   ],
   "source": [
    "## Actual vs Predicted\n",
    "from sklearn.metrics import confusion_matrix\n",
    "df=pd.DataFrame({'actual':y_test,'predicted':y_pred.flatten(),'True/false':y_test==y_pred})\n",
    "\n",
    "df\n",
    "\n",
    "print(confusionMatrix(df))"
   ]
  },
  {
   "cell_type": "code",
   "execution_count": 88,
   "id": "a0b8d70e",
   "metadata": {},
   "outputs": [
    {
     "data": {
      "text/plain": [
       "actual  predicted  True/false\n",
       "0       0          True          0.7728\n",
       "1       0          False         0.1044\n",
       "        1          True          0.0944\n",
       "0       1          False         0.0284\n",
       "dtype: float64"
      ]
     },
     "execution_count": 88,
     "metadata": {},
     "output_type": "execute_result"
    }
   ],
   "source": [
    "df.value_counts(normalize=True)"
   ]
  },
  {
   "cell_type": "code",
   "execution_count": 91,
   "id": "79fd776a",
   "metadata": {},
   "outputs": [
    {
     "data": {
      "text/plain": [
       "0    567\n",
       "1     77\n",
       "Name: prediction, dtype: int64"
      ]
     },
     "execution_count": 91,
     "metadata": {},
     "output_type": "execute_result"
    }
   ],
   "source": [
    "df1['prediction'].value_counts()\n"
   ]
  },
  {
   "cell_type": "code",
   "execution_count": null,
   "id": "daed8a2d",
   "metadata": {},
   "outputs": [],
   "source": []
  },
  {
   "cell_type": "code",
   "execution_count": null,
   "id": "a58f1122",
   "metadata": {},
   "outputs": [],
   "source": []
  },
  {
   "cell_type": "code",
   "execution_count": null,
   "id": "1ef6a449",
   "metadata": {},
   "outputs": [],
   "source": []
  }
 ],
 "metadata": {
  "kernelspec": {
   "display_name": "Python 3 (ipykernel)",
   "language": "python",
   "name": "python3"
  },
  "language_info": {
   "codemirror_mode": {
    "name": "ipython",
    "version": 3
   },
   "file_extension": ".py",
   "mimetype": "text/x-python",
   "name": "python",
   "nbconvert_exporter": "python",
   "pygments_lexer": "ipython3",
   "version": "3.9.7"
  }
 },
 "nbformat": 4,
 "nbformat_minor": 5
}
